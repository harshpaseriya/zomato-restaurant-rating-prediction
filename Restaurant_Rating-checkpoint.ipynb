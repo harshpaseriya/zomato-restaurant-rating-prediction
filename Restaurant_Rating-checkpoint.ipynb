{
 "cells": [
  {
   "cell_type": "markdown",
   "metadata": {},
   "source": [
    "## Importing Libraries"
   ]
  },
  {
   "cell_type": "code",
   "execution_count": 1,
   "metadata": {},
   "outputs": [],
   "source": [
    "#Importing Libraries\n",
    "import pandas as pd\n",
    "import numpy as np\n",
    "import matplotlib.pyplot as plt\n",
    "import seaborn as sns\n",
    "import sys\n",
    "from sklearn.preprocessing import LabelEncoder\n",
    "from sklearn.preprocessing import StandardScaler\n",
    "from sklearn.model_selection import train_test_split\n",
    "import warnings\n",
    "warnings.filterwarnings('ignore')\n",
    "import logging"
   ]
  },
  {
   "cell_type": "markdown",
   "metadata": {},
   "source": [
    "## Load Data"
   ]
  },
  {
   "cell_type": "code",
   "execution_count": 2,
   "metadata": {},
   "outputs": [],
   "source": [
    "def load_data(url):\n",
    "    df = pd.read_csv(url)\n",
    "    return df"
   ]
  },
  {
   "cell_type": "code",
   "execution_count": 3,
   "metadata": {},
   "outputs": [],
   "source": [
    "df = load_data('zomato.csv')"
   ]
  },
  {
   "cell_type": "code",
   "execution_count": 4,
   "metadata": {},
   "outputs": [
    {
     "data": {
      "text/html": [
       "<div>\n",
       "<style scoped>\n",
       "    .dataframe tbody tr th:only-of-type {\n",
       "        vertical-align: middle;\n",
       "    }\n",
       "\n",
       "    .dataframe tbody tr th {\n",
       "        vertical-align: top;\n",
       "    }\n",
       "\n",
       "    .dataframe thead th {\n",
       "        text-align: right;\n",
       "    }\n",
       "</style>\n",
       "<table border=\"1\" class=\"dataframe\">\n",
       "  <thead>\n",
       "    <tr style=\"text-align: right;\">\n",
       "      <th></th>\n",
       "      <th>url</th>\n",
       "      <th>address</th>\n",
       "      <th>name</th>\n",
       "      <th>online_order</th>\n",
       "      <th>book_table</th>\n",
       "      <th>rate</th>\n",
       "      <th>votes</th>\n",
       "      <th>phone</th>\n",
       "      <th>location</th>\n",
       "      <th>rest_type</th>\n",
       "      <th>dish_liked</th>\n",
       "      <th>cuisines</th>\n",
       "      <th>approx_cost(for two people)</th>\n",
       "      <th>reviews_list</th>\n",
       "      <th>menu_item</th>\n",
       "      <th>listed_in(type)</th>\n",
       "      <th>listed_in(city)</th>\n",
       "    </tr>\n",
       "  </thead>\n",
       "  <tbody>\n",
       "    <tr>\n",
       "      <th>0</th>\n",
       "      <td>https://www.zomato.com/bangalore/jalsa-banasha...</td>\n",
       "      <td>942, 21st Main Road, 2nd Stage, Banashankari, ...</td>\n",
       "      <td>Jalsa</td>\n",
       "      <td>Yes</td>\n",
       "      <td>Yes</td>\n",
       "      <td>4.1/5</td>\n",
       "      <td>775</td>\n",
       "      <td>080 42297555\\r\\n+91 9743772233</td>\n",
       "      <td>Banashankari</td>\n",
       "      <td>Casual Dining</td>\n",
       "      <td>Pasta, Lunch Buffet, Masala Papad, Paneer Laja...</td>\n",
       "      <td>North Indian, Mughlai, Chinese</td>\n",
       "      <td>800</td>\n",
       "      <td>[('Rated 4.0', 'RATED\\n  A beautiful place to ...</td>\n",
       "      <td>[]</td>\n",
       "      <td>Buffet</td>\n",
       "      <td>Banashankari</td>\n",
       "    </tr>\n",
       "    <tr>\n",
       "      <th>1</th>\n",
       "      <td>https://www.zomato.com/bangalore/spice-elephan...</td>\n",
       "      <td>2nd Floor, 80 Feet Road, Near Big Bazaar, 6th ...</td>\n",
       "      <td>Spice Elephant</td>\n",
       "      <td>Yes</td>\n",
       "      <td>No</td>\n",
       "      <td>4.1/5</td>\n",
       "      <td>787</td>\n",
       "      <td>080 41714161</td>\n",
       "      <td>Banashankari</td>\n",
       "      <td>Casual Dining</td>\n",
       "      <td>Momos, Lunch Buffet, Chocolate Nirvana, Thai G...</td>\n",
       "      <td>Chinese, North Indian, Thai</td>\n",
       "      <td>800</td>\n",
       "      <td>[('Rated 4.0', 'RATED\\n  Had been here for din...</td>\n",
       "      <td>[]</td>\n",
       "      <td>Buffet</td>\n",
       "      <td>Banashankari</td>\n",
       "    </tr>\n",
       "    <tr>\n",
       "      <th>2</th>\n",
       "      <td>https://www.zomato.com/SanchurroBangalore?cont...</td>\n",
       "      <td>1112, Next to KIMS Medical College, 17th Cross...</td>\n",
       "      <td>San Churro Cafe</td>\n",
       "      <td>Yes</td>\n",
       "      <td>No</td>\n",
       "      <td>3.8/5</td>\n",
       "      <td>918</td>\n",
       "      <td>+91 9663487993</td>\n",
       "      <td>Banashankari</td>\n",
       "      <td>Cafe, Casual Dining</td>\n",
       "      <td>Churros, Cannelloni, Minestrone Soup, Hot Choc...</td>\n",
       "      <td>Cafe, Mexican, Italian</td>\n",
       "      <td>800</td>\n",
       "      <td>[('Rated 3.0', \"RATED\\n  Ambience is not that ...</td>\n",
       "      <td>[]</td>\n",
       "      <td>Buffet</td>\n",
       "      <td>Banashankari</td>\n",
       "    </tr>\n",
       "    <tr>\n",
       "      <th>3</th>\n",
       "      <td>https://www.zomato.com/bangalore/addhuri-udupi...</td>\n",
       "      <td>1st Floor, Annakuteera, 3rd Stage, Banashankar...</td>\n",
       "      <td>Addhuri Udupi Bhojana</td>\n",
       "      <td>No</td>\n",
       "      <td>No</td>\n",
       "      <td>3.7/5</td>\n",
       "      <td>88</td>\n",
       "      <td>+91 9620009302</td>\n",
       "      <td>Banashankari</td>\n",
       "      <td>Quick Bites</td>\n",
       "      <td>Masala Dosa</td>\n",
       "      <td>South Indian, North Indian</td>\n",
       "      <td>300</td>\n",
       "      <td>[('Rated 4.0', \"RATED\\n  Great food and proper...</td>\n",
       "      <td>[]</td>\n",
       "      <td>Buffet</td>\n",
       "      <td>Banashankari</td>\n",
       "    </tr>\n",
       "    <tr>\n",
       "      <th>4</th>\n",
       "      <td>https://www.zomato.com/bangalore/grand-village...</td>\n",
       "      <td>10, 3rd Floor, Lakshmi Associates, Gandhi Baza...</td>\n",
       "      <td>Grand Village</td>\n",
       "      <td>No</td>\n",
       "      <td>No</td>\n",
       "      <td>3.8/5</td>\n",
       "      <td>166</td>\n",
       "      <td>+91 8026612447\\r\\n+91 9901210005</td>\n",
       "      <td>Basavanagudi</td>\n",
       "      <td>Casual Dining</td>\n",
       "      <td>Panipuri, Gol Gappe</td>\n",
       "      <td>North Indian, Rajasthani</td>\n",
       "      <td>600</td>\n",
       "      <td>[('Rated 4.0', 'RATED\\n  Very good restaurant ...</td>\n",
       "      <td>[]</td>\n",
       "      <td>Buffet</td>\n",
       "      <td>Banashankari</td>\n",
       "    </tr>\n",
       "    <tr>\n",
       "      <th>5</th>\n",
       "      <td>https://www.zomato.com/bangalore/timepass-dinn...</td>\n",
       "      <td>37, 5-1, 4th Floor, Bosco Court, Gandhi Bazaar...</td>\n",
       "      <td>Timepass Dinner</td>\n",
       "      <td>Yes</td>\n",
       "      <td>No</td>\n",
       "      <td>3.8/5</td>\n",
       "      <td>286</td>\n",
       "      <td>+91 9980040002\\r\\n+91 9980063005</td>\n",
       "      <td>Basavanagudi</td>\n",
       "      <td>Casual Dining</td>\n",
       "      <td>Onion Rings, Pasta, Kadhai Paneer, Salads, Sal...</td>\n",
       "      <td>North Indian</td>\n",
       "      <td>600</td>\n",
       "      <td>[('Rated 3.0', 'RATED\\n  Food 3/5\\nAmbience 3/...</td>\n",
       "      <td>[]</td>\n",
       "      <td>Buffet</td>\n",
       "      <td>Banashankari</td>\n",
       "    </tr>\n",
       "    <tr>\n",
       "      <th>6</th>\n",
       "      <td>https://www.zomato.com/bangalore/rosewood-inte...</td>\n",
       "      <td>19/1, New Timberyard Layout, Beside Satellite ...</td>\n",
       "      <td>Rosewood International Hotel - Bar &amp; Restaurant</td>\n",
       "      <td>No</td>\n",
       "      <td>No</td>\n",
       "      <td>3.6/5</td>\n",
       "      <td>8</td>\n",
       "      <td>+91 9731716688\\r\\n080 26740366</td>\n",
       "      <td>Mysore Road</td>\n",
       "      <td>Casual Dining</td>\n",
       "      <td>NaN</td>\n",
       "      <td>North Indian, South Indian, Andhra, Chinese</td>\n",
       "      <td>800</td>\n",
       "      <td>[('Rated 5.0', 'RATED\\n  Awesome food ??Great ...</td>\n",
       "      <td>[]</td>\n",
       "      <td>Buffet</td>\n",
       "      <td>Banashankari</td>\n",
       "    </tr>\n",
       "    <tr>\n",
       "      <th>7</th>\n",
       "      <td>https://www.zomato.com/bangalore/onesta-banash...</td>\n",
       "      <td>2469, 3rd Floor, 24th Cross, Opposite BDA Comp...</td>\n",
       "      <td>Onesta</td>\n",
       "      <td>Yes</td>\n",
       "      <td>Yes</td>\n",
       "      <td>4.6/5</td>\n",
       "      <td>2556</td>\n",
       "      <td>080 48653961\\r\\n080 48655715</td>\n",
       "      <td>Banashankari</td>\n",
       "      <td>Casual Dining, Cafe</td>\n",
       "      <td>Farmhouse Pizza, Chocolate Banana, Virgin Moji...</td>\n",
       "      <td>Pizza, Cafe, Italian</td>\n",
       "      <td>600</td>\n",
       "      <td>[('Rated 5.0', 'RATED\\n  I personally really l...</td>\n",
       "      <td>[]</td>\n",
       "      <td>Cafes</td>\n",
       "      <td>Banashankari</td>\n",
       "    </tr>\n",
       "    <tr>\n",
       "      <th>8</th>\n",
       "      <td>https://www.zomato.com/bangalore/penthouse-caf...</td>\n",
       "      <td>1, 30th Main Road, 3rd Stage, Banashankari, Ba...</td>\n",
       "      <td>Penthouse Cafe</td>\n",
       "      <td>Yes</td>\n",
       "      <td>No</td>\n",
       "      <td>4.0/5</td>\n",
       "      <td>324</td>\n",
       "      <td>+91 8884135549\\r\\n+91 9449449316</td>\n",
       "      <td>Banashankari</td>\n",
       "      <td>Cafe</td>\n",
       "      <td>Pizza, Mocktails, Coffee, Nachos, Salad, Pasta...</td>\n",
       "      <td>Cafe, Italian, Continental</td>\n",
       "      <td>700</td>\n",
       "      <td>[('Rated 3.0', \"RATED\\n  I had been to this pl...</td>\n",
       "      <td>[]</td>\n",
       "      <td>Cafes</td>\n",
       "      <td>Banashankari</td>\n",
       "    </tr>\n",
       "    <tr>\n",
       "      <th>9</th>\n",
       "      <td>https://www.zomato.com/bangalore/smacznego-ban...</td>\n",
       "      <td>2470, 21 Main Road, 25th Cross, Banashankari, ...</td>\n",
       "      <td>Smacznego</td>\n",
       "      <td>Yes</td>\n",
       "      <td>No</td>\n",
       "      <td>4.2/5</td>\n",
       "      <td>504</td>\n",
       "      <td>+91 9945230807\\r\\n+91 9743804471</td>\n",
       "      <td>Banashankari</td>\n",
       "      <td>Cafe</td>\n",
       "      <td>Waffles, Pasta, Coleslaw Sandwich, Choco Waffl...</td>\n",
       "      <td>Cafe, Mexican, Italian, Momos, Beverages</td>\n",
       "      <td>550</td>\n",
       "      <td>[('Rated 4.0', \"RATED\\n  Easy to locate\\nVFM 3...</td>\n",
       "      <td>[]</td>\n",
       "      <td>Cafes</td>\n",
       "      <td>Banashankari</td>\n",
       "    </tr>\n",
       "    <tr>\n",
       "      <th>10</th>\n",
       "      <td>https://www.zomato.com/bangalore/caf%C3%A9-dow...</td>\n",
       "      <td>12,29 Near PES University Back Gate, D'Souza N...</td>\n",
       "      <td>CafÃÂÃÂÃÂÃÂÃÂÃÂÃÂÃÂ© Down The A...</td>\n",
       "      <td>Yes</td>\n",
       "      <td>No</td>\n",
       "      <td>4.1/5</td>\n",
       "      <td>402</td>\n",
       "      <td>080 26724489\\r\\n+91 7406048982</td>\n",
       "      <td>Banashankari</td>\n",
       "      <td>Cafe</td>\n",
       "      <td>Waffles, Pasta, Crispy Chicken, Honey Chilli C...</td>\n",
       "      <td>Cafe</td>\n",
       "      <td>500</td>\n",
       "      <td>[('Rated 4.0', 'RATED\\n  We ended up here on a...</td>\n",
       "      <td>[]</td>\n",
       "      <td>Cafes</td>\n",
       "      <td>Banashankari</td>\n",
       "    </tr>\n",
       "    <tr>\n",
       "      <th>11</th>\n",
       "      <td>https://www.zomato.com/bangalore/cafe-shuffle-...</td>\n",
       "      <td>941, 3rd FLOOR, 21st Main, 22nd Cross, Banasha...</td>\n",
       "      <td>Cafe Shuffle</td>\n",
       "      <td>Yes</td>\n",
       "      <td>Yes</td>\n",
       "      <td>4.2/5</td>\n",
       "      <td>150</td>\n",
       "      <td>+91 9742166777</td>\n",
       "      <td>Banashankari</td>\n",
       "      <td>Cafe</td>\n",
       "      <td>Mocktails, Peri Fries, Lasagne, Pizza, Chicken...</td>\n",
       "      <td>Cafe, Italian, Continental</td>\n",
       "      <td>600</td>\n",
       "      <td>[('Rated 1.0', \"RATED\\n \\n\\nHorrible. Not even...</td>\n",
       "      <td>[]</td>\n",
       "      <td>Cafes</td>\n",
       "      <td>Banashankari</td>\n",
       "    </tr>\n",
       "    <tr>\n",
       "      <th>12</th>\n",
       "      <td>https://www.zomato.com/bangalore/the-coffee-sh...</td>\n",
       "      <td>6th Block, 3rd Stage, Banashankari, Bangalore</td>\n",
       "      <td>The Coffee Shack</td>\n",
       "      <td>Yes</td>\n",
       "      <td>Yes</td>\n",
       "      <td>4.2/5</td>\n",
       "      <td>164</td>\n",
       "      <td>+91 9731644212</td>\n",
       "      <td>Banashankari</td>\n",
       "      <td>Cafe</td>\n",
       "      <td>Coffee, Spaghetti, Pancakes, Nachos, Pasta, Sa...</td>\n",
       "      <td>Cafe, Chinese, Continental, Italian</td>\n",
       "      <td>500</td>\n",
       "      <td>[('Rated 4.0', \"RATED\\n  Food - 4/5\\nAmbience ...</td>\n",
       "      <td>[]</td>\n",
       "      <td>Cafes</td>\n",
       "      <td>Banashankari</td>\n",
       "    </tr>\n",
       "    <tr>\n",
       "      <th>13</th>\n",
       "      <td>https://www.zomato.com/bangalore/caf-eleven-ba...</td>\n",
       "      <td>111, Sapphire Toys Building, 100 Feet Ring Roa...</td>\n",
       "      <td>Caf-Eleven</td>\n",
       "      <td>No</td>\n",
       "      <td>No</td>\n",
       "      <td>4.0/5</td>\n",
       "      <td>424</td>\n",
       "      <td>080 49577715</td>\n",
       "      <td>Banashankari</td>\n",
       "      <td>Cafe</td>\n",
       "      <td>Sandwich, Omelette, Ice Tea, Virgin Mojito, Ho...</td>\n",
       "      <td>Cafe, Continental</td>\n",
       "      <td>450</td>\n",
       "      <td>[('Rated 2.0', \"RATED\\n  This is a hookah cafe...</td>\n",
       "      <td>[]</td>\n",
       "      <td>Cafes</td>\n",
       "      <td>Banashankari</td>\n",
       "    </tr>\n",
       "    <tr>\n",
       "      <th>14</th>\n",
       "      <td>https://www.zomato.com/SanchurroBangalore?cont...</td>\n",
       "      <td>1112, Next to KIMS Medical College, 17th Cross...</td>\n",
       "      <td>San Churro Cafe</td>\n",
       "      <td>Yes</td>\n",
       "      <td>No</td>\n",
       "      <td>3.8/5</td>\n",
       "      <td>918</td>\n",
       "      <td>+91 9663487993</td>\n",
       "      <td>Banashankari</td>\n",
       "      <td>Cafe, Casual Dining</td>\n",
       "      <td>Churros, Cannelloni, Minestrone Soup, Hot Choc...</td>\n",
       "      <td>Cafe, Mexican, Italian</td>\n",
       "      <td>800</td>\n",
       "      <td>[('Rated 3.0', \"RATED\\n  Ambience is not that ...</td>\n",
       "      <td>[]</td>\n",
       "      <td>Cafes</td>\n",
       "      <td>Banashankari</td>\n",
       "    </tr>\n",
       "    <tr>\n",
       "      <th>15</th>\n",
       "      <td>https://www.zomato.com/bangalore/cafe-vivacity...</td>\n",
       "      <td>2303, 21st Cross, K R Road, 2nd Stage, Banasha...</td>\n",
       "      <td>Cafe Vivacity</td>\n",
       "      <td>Yes</td>\n",
       "      <td>No</td>\n",
       "      <td>3.8/5</td>\n",
       "      <td>90</td>\n",
       "      <td>080 26768182\\r\\n+91 9845704455</td>\n",
       "      <td>Banashankari</td>\n",
       "      <td>Cafe</td>\n",
       "      <td>Garlic Bread, Burgers, Sandwiches, Pizza, Hot ...</td>\n",
       "      <td>Cafe</td>\n",
       "      <td>650</td>\n",
       "      <td>[('Rated 2.0', 'RATED\\n  Not so good place as ...</td>\n",
       "      <td>[]</td>\n",
       "      <td>Cafes</td>\n",
       "      <td>Banashankari</td>\n",
       "    </tr>\n",
       "    <tr>\n",
       "      <th>16</th>\n",
       "      <td>https://www.zomato.com/bangalore/catch-up-ino-...</td>\n",
       "      <td>241, 4th Floor, 100 Feet Ring Road, Opposite K...</td>\n",
       "      <td>Catch-up-ino</td>\n",
       "      <td>Yes</td>\n",
       "      <td>No</td>\n",
       "      <td>3.9/5</td>\n",
       "      <td>133</td>\n",
       "      <td>+91 9972988038\\r\\n+91 9900121238</td>\n",
       "      <td>Banashankari</td>\n",
       "      <td>Cafe</td>\n",
       "      <td>Momos, Mushroom Bruschettas, Jalapeno Cheeseba...</td>\n",
       "      <td>Cafe, Fast Food, Continental, Chinese, Momos</td>\n",
       "      <td>800</td>\n",
       "      <td>[('Rated 1.0', \"RATED\\n  This place is right o...</td>\n",
       "      <td>[]</td>\n",
       "      <td>Cafes</td>\n",
       "      <td>Banashankari</td>\n",
       "    </tr>\n",
       "    <tr>\n",
       "      <th>17</th>\n",
       "      <td>https://www.zomato.com/bangalore/kirthis-birya...</td>\n",
       "      <td>405, 24th Cross, 9th Main, 2nd Stage, Banashan...</td>\n",
       "      <td>Kirthi's Biryani</td>\n",
       "      <td>Yes</td>\n",
       "      <td>No</td>\n",
       "      <td>3.8/5</td>\n",
       "      <td>144</td>\n",
       "      <td>080 26711554\\r\\n+91 9741406338</td>\n",
       "      <td>Banashankari</td>\n",
       "      <td>Cafe</td>\n",
       "      <td>Pasta, Gelato, Garlic Bread, Mojito, Nachos, P...</td>\n",
       "      <td>Chinese, Cafe, Italian</td>\n",
       "      <td>700</td>\n",
       "      <td>[('Rated 3.0', \"RATED\\n  New place.. though it...</td>\n",
       "      <td>[]</td>\n",
       "      <td>Cafes</td>\n",
       "      <td>Banashankari</td>\n",
       "    </tr>\n",
       "    <tr>\n",
       "      <th>18</th>\n",
       "      <td>https://www.zomato.com/bangalore/t3h-cafe-bana...</td>\n",
       "      <td>504, CJ Venkata Das Road, Padmanabhangar, 2nd ...</td>\n",
       "      <td>T3H Cafe</td>\n",
       "      <td>No</td>\n",
       "      <td>No</td>\n",
       "      <td>3.9/5</td>\n",
       "      <td>93</td>\n",
       "      <td>+91 8884726600</td>\n",
       "      <td>Banashankari</td>\n",
       "      <td>Cafe</td>\n",
       "      <td>Cheese Maggi, Peri Peri Fries, Pasta Arrabiata</td>\n",
       "      <td>Cafe, Italian, American</td>\n",
       "      <td>300</td>\n",
       "      <td>[('Rated 4.0', \"RATED\\n  Happy to see such a c...</td>\n",
       "      <td>[]</td>\n",
       "      <td>Cafes</td>\n",
       "      <td>Banashankari</td>\n",
       "    </tr>\n",
       "    <tr>\n",
       "      <th>19</th>\n",
       "      <td>https://www.zomato.com/bangalore/360-atoms-res...</td>\n",
       "      <td>47, 48 &amp;49, 3Rd Floor, 21st Main Road, 2nd Sta...</td>\n",
       "      <td>360 Atoms Restaurant And Cafe</td>\n",
       "      <td>Yes</td>\n",
       "      <td>No</td>\n",
       "      <td>3.1/5</td>\n",
       "      <td>13</td>\n",
       "      <td>+91 9880594520</td>\n",
       "      <td>Banashankari</td>\n",
       "      <td>Cafe</td>\n",
       "      <td>NaN</td>\n",
       "      <td>Cafe, Chinese, Continental, Italian</td>\n",
       "      <td>400</td>\n",
       "      <td>[('Rated 5.0', 'RATED\\n  Friendly staffs , nic...</td>\n",
       "      <td>[]</td>\n",
       "      <td>Cafes</td>\n",
       "      <td>Banashankari</td>\n",
       "    </tr>\n",
       "  </tbody>\n",
       "</table>\n",
       "</div>"
      ],
      "text/plain": [
       "                                                  url  \\\n",
       "0   https://www.zomato.com/bangalore/jalsa-banasha...   \n",
       "1   https://www.zomato.com/bangalore/spice-elephan...   \n",
       "2   https://www.zomato.com/SanchurroBangalore?cont...   \n",
       "3   https://www.zomato.com/bangalore/addhuri-udupi...   \n",
       "4   https://www.zomato.com/bangalore/grand-village...   \n",
       "5   https://www.zomato.com/bangalore/timepass-dinn...   \n",
       "6   https://www.zomato.com/bangalore/rosewood-inte...   \n",
       "7   https://www.zomato.com/bangalore/onesta-banash...   \n",
       "8   https://www.zomato.com/bangalore/penthouse-caf...   \n",
       "9   https://www.zomato.com/bangalore/smacznego-ban...   \n",
       "10  https://www.zomato.com/bangalore/caf%C3%A9-dow...   \n",
       "11  https://www.zomato.com/bangalore/cafe-shuffle-...   \n",
       "12  https://www.zomato.com/bangalore/the-coffee-sh...   \n",
       "13  https://www.zomato.com/bangalore/caf-eleven-ba...   \n",
       "14  https://www.zomato.com/SanchurroBangalore?cont...   \n",
       "15  https://www.zomato.com/bangalore/cafe-vivacity...   \n",
       "16  https://www.zomato.com/bangalore/catch-up-ino-...   \n",
       "17  https://www.zomato.com/bangalore/kirthis-birya...   \n",
       "18  https://www.zomato.com/bangalore/t3h-cafe-bana...   \n",
       "19  https://www.zomato.com/bangalore/360-atoms-res...   \n",
       "\n",
       "                                              address  \\\n",
       "0   942, 21st Main Road, 2nd Stage, Banashankari, ...   \n",
       "1   2nd Floor, 80 Feet Road, Near Big Bazaar, 6th ...   \n",
       "2   1112, Next to KIMS Medical College, 17th Cross...   \n",
       "3   1st Floor, Annakuteera, 3rd Stage, Banashankar...   \n",
       "4   10, 3rd Floor, Lakshmi Associates, Gandhi Baza...   \n",
       "5   37, 5-1, 4th Floor, Bosco Court, Gandhi Bazaar...   \n",
       "6   19/1, New Timberyard Layout, Beside Satellite ...   \n",
       "7   2469, 3rd Floor, 24th Cross, Opposite BDA Comp...   \n",
       "8   1, 30th Main Road, 3rd Stage, Banashankari, Ba...   \n",
       "9   2470, 21 Main Road, 25th Cross, Banashankari, ...   \n",
       "10  12,29 Near PES University Back Gate, D'Souza N...   \n",
       "11  941, 3rd FLOOR, 21st Main, 22nd Cross, Banasha...   \n",
       "12      6th Block, 3rd Stage, Banashankari, Bangalore   \n",
       "13  111, Sapphire Toys Building, 100 Feet Ring Roa...   \n",
       "14  1112, Next to KIMS Medical College, 17th Cross...   \n",
       "15  2303, 21st Cross, K R Road, 2nd Stage, Banasha...   \n",
       "16  241, 4th Floor, 100 Feet Ring Road, Opposite K...   \n",
       "17  405, 24th Cross, 9th Main, 2nd Stage, Banashan...   \n",
       "18  504, CJ Venkata Das Road, Padmanabhangar, 2nd ...   \n",
       "19  47, 48 &49, 3Rd Floor, 21st Main Road, 2nd Sta...   \n",
       "\n",
       "                                                 name online_order book_table  \\\n",
       "0                                               Jalsa          Yes        Yes   \n",
       "1                                      Spice Elephant          Yes         No   \n",
       "2                                     San Churro Cafe          Yes         No   \n",
       "3                               Addhuri Udupi Bhojana           No         No   \n",
       "4                                       Grand Village           No         No   \n",
       "5                                     Timepass Dinner          Yes         No   \n",
       "6     Rosewood International Hotel - Bar & Restaurant           No         No   \n",
       "7                                              Onesta          Yes        Yes   \n",
       "8                                      Penthouse Cafe          Yes         No   \n",
       "9                                           Smacznego          Yes         No   \n",
       "10  CafÃÂÃÂÃÂÃÂÃÂÃÂÃÂÃÂ© Down The A...          Yes         No   \n",
       "11                                       Cafe Shuffle          Yes        Yes   \n",
       "12                                   The Coffee Shack          Yes        Yes   \n",
       "13                                         Caf-Eleven           No         No   \n",
       "14                                    San Churro Cafe          Yes         No   \n",
       "15                                      Cafe Vivacity          Yes         No   \n",
       "16                                       Catch-up-ino          Yes         No   \n",
       "17                                   Kirthi's Biryani          Yes         No   \n",
       "18                                           T3H Cafe           No         No   \n",
       "19                      360 Atoms Restaurant And Cafe          Yes         No   \n",
       "\n",
       "     rate  votes                             phone      location  \\\n",
       "0   4.1/5    775    080 42297555\\r\\n+91 9743772233  Banashankari   \n",
       "1   4.1/5    787                      080 41714161  Banashankari   \n",
       "2   3.8/5    918                    +91 9663487993  Banashankari   \n",
       "3   3.7/5     88                    +91 9620009302  Banashankari   \n",
       "4   3.8/5    166  +91 8026612447\\r\\n+91 9901210005  Basavanagudi   \n",
       "5   3.8/5    286  +91 9980040002\\r\\n+91 9980063005  Basavanagudi   \n",
       "6   3.6/5      8    +91 9731716688\\r\\n080 26740366   Mysore Road   \n",
       "7   4.6/5   2556      080 48653961\\r\\n080 48655715  Banashankari   \n",
       "8   4.0/5    324  +91 8884135549\\r\\n+91 9449449316  Banashankari   \n",
       "9   4.2/5    504  +91 9945230807\\r\\n+91 9743804471  Banashankari   \n",
       "10  4.1/5    402    080 26724489\\r\\n+91 7406048982  Banashankari   \n",
       "11  4.2/5    150                    +91 9742166777  Banashankari   \n",
       "12  4.2/5    164                    +91 9731644212  Banashankari   \n",
       "13  4.0/5    424                      080 49577715  Banashankari   \n",
       "14  3.8/5    918                    +91 9663487993  Banashankari   \n",
       "15  3.8/5     90    080 26768182\\r\\n+91 9845704455  Banashankari   \n",
       "16  3.9/5    133  +91 9972988038\\r\\n+91 9900121238  Banashankari   \n",
       "17  3.8/5    144    080 26711554\\r\\n+91 9741406338  Banashankari   \n",
       "18  3.9/5     93                    +91 8884726600  Banashankari   \n",
       "19  3.1/5     13                    +91 9880594520  Banashankari   \n",
       "\n",
       "              rest_type                                         dish_liked  \\\n",
       "0         Casual Dining  Pasta, Lunch Buffet, Masala Papad, Paneer Laja...   \n",
       "1         Casual Dining  Momos, Lunch Buffet, Chocolate Nirvana, Thai G...   \n",
       "2   Cafe, Casual Dining  Churros, Cannelloni, Minestrone Soup, Hot Choc...   \n",
       "3           Quick Bites                                        Masala Dosa   \n",
       "4         Casual Dining                                Panipuri, Gol Gappe   \n",
       "5         Casual Dining  Onion Rings, Pasta, Kadhai Paneer, Salads, Sal...   \n",
       "6         Casual Dining                                                NaN   \n",
       "7   Casual Dining, Cafe  Farmhouse Pizza, Chocolate Banana, Virgin Moji...   \n",
       "8                  Cafe  Pizza, Mocktails, Coffee, Nachos, Salad, Pasta...   \n",
       "9                  Cafe  Waffles, Pasta, Coleslaw Sandwich, Choco Waffl...   \n",
       "10                 Cafe  Waffles, Pasta, Crispy Chicken, Honey Chilli C...   \n",
       "11                 Cafe  Mocktails, Peri Fries, Lasagne, Pizza, Chicken...   \n",
       "12                 Cafe  Coffee, Spaghetti, Pancakes, Nachos, Pasta, Sa...   \n",
       "13                 Cafe  Sandwich, Omelette, Ice Tea, Virgin Mojito, Ho...   \n",
       "14  Cafe, Casual Dining  Churros, Cannelloni, Minestrone Soup, Hot Choc...   \n",
       "15                 Cafe  Garlic Bread, Burgers, Sandwiches, Pizza, Hot ...   \n",
       "16                 Cafe  Momos, Mushroom Bruschettas, Jalapeno Cheeseba...   \n",
       "17                 Cafe  Pasta, Gelato, Garlic Bread, Mojito, Nachos, P...   \n",
       "18                 Cafe     Cheese Maggi, Peri Peri Fries, Pasta Arrabiata   \n",
       "19                 Cafe                                                NaN   \n",
       "\n",
       "                                        cuisines approx_cost(for two people)  \\\n",
       "0                 North Indian, Mughlai, Chinese                         800   \n",
       "1                    Chinese, North Indian, Thai                         800   \n",
       "2                         Cafe, Mexican, Italian                         800   \n",
       "3                     South Indian, North Indian                         300   \n",
       "4                       North Indian, Rajasthani                         600   \n",
       "5                                   North Indian                         600   \n",
       "6    North Indian, South Indian, Andhra, Chinese                         800   \n",
       "7                           Pizza, Cafe, Italian                         600   \n",
       "8                     Cafe, Italian, Continental                         700   \n",
       "9       Cafe, Mexican, Italian, Momos, Beverages                         550   \n",
       "10                                          Cafe                         500   \n",
       "11                    Cafe, Italian, Continental                         600   \n",
       "12           Cafe, Chinese, Continental, Italian                         500   \n",
       "13                             Cafe, Continental                         450   \n",
       "14                        Cafe, Mexican, Italian                         800   \n",
       "15                                          Cafe                         650   \n",
       "16  Cafe, Fast Food, Continental, Chinese, Momos                         800   \n",
       "17                        Chinese, Cafe, Italian                         700   \n",
       "18                       Cafe, Italian, American                         300   \n",
       "19           Cafe, Chinese, Continental, Italian                         400   \n",
       "\n",
       "                                         reviews_list menu_item  \\\n",
       "0   [('Rated 4.0', 'RATED\\n  A beautiful place to ...        []   \n",
       "1   [('Rated 4.0', 'RATED\\n  Had been here for din...        []   \n",
       "2   [('Rated 3.0', \"RATED\\n  Ambience is not that ...        []   \n",
       "3   [('Rated 4.0', \"RATED\\n  Great food and proper...        []   \n",
       "4   [('Rated 4.0', 'RATED\\n  Very good restaurant ...        []   \n",
       "5   [('Rated 3.0', 'RATED\\n  Food 3/5\\nAmbience 3/...        []   \n",
       "6   [('Rated 5.0', 'RATED\\n  Awesome food ??Great ...        []   \n",
       "7   [('Rated 5.0', 'RATED\\n  I personally really l...        []   \n",
       "8   [('Rated 3.0', \"RATED\\n  I had been to this pl...        []   \n",
       "9   [('Rated 4.0', \"RATED\\n  Easy to locate\\nVFM 3...        []   \n",
       "10  [('Rated 4.0', 'RATED\\n  We ended up here on a...        []   \n",
       "11  [('Rated 1.0', \"RATED\\n \\n\\nHorrible. Not even...        []   \n",
       "12  [('Rated 4.0', \"RATED\\n  Food - 4/5\\nAmbience ...        []   \n",
       "13  [('Rated 2.0', \"RATED\\n  This is a hookah cafe...        []   \n",
       "14  [('Rated 3.0', \"RATED\\n  Ambience is not that ...        []   \n",
       "15  [('Rated 2.0', 'RATED\\n  Not so good place as ...        []   \n",
       "16  [('Rated 1.0', \"RATED\\n  This place is right o...        []   \n",
       "17  [('Rated 3.0', \"RATED\\n  New place.. though it...        []   \n",
       "18  [('Rated 4.0', \"RATED\\n  Happy to see such a c...        []   \n",
       "19  [('Rated 5.0', 'RATED\\n  Friendly staffs , nic...        []   \n",
       "\n",
       "   listed_in(type) listed_in(city)  \n",
       "0           Buffet    Banashankari  \n",
       "1           Buffet    Banashankari  \n",
       "2           Buffet    Banashankari  \n",
       "3           Buffet    Banashankari  \n",
       "4           Buffet    Banashankari  \n",
       "5           Buffet    Banashankari  \n",
       "6           Buffet    Banashankari  \n",
       "7            Cafes    Banashankari  \n",
       "8            Cafes    Banashankari  \n",
       "9            Cafes    Banashankari  \n",
       "10           Cafes    Banashankari  \n",
       "11           Cafes    Banashankari  \n",
       "12           Cafes    Banashankari  \n",
       "13           Cafes    Banashankari  \n",
       "14           Cafes    Banashankari  \n",
       "15           Cafes    Banashankari  \n",
       "16           Cafes    Banashankari  \n",
       "17           Cafes    Banashankari  \n",
       "18           Cafes    Banashankari  \n",
       "19           Cafes    Banashankari  "
      ]
     },
     "execution_count": 4,
     "metadata": {},
     "output_type": "execute_result"
    }
   ],
   "source": [
    "df.head(20)"
   ]
  },
  {
   "cell_type": "markdown",
   "metadata": {},
   "source": [
    "## EDA"
   ]
  },
  {
   "cell_type": "code",
   "execution_count": 5,
   "metadata": {},
   "outputs": [
    {
     "name": "stdout",
     "output_type": "stream",
     "text": [
      "<class 'pandas.core.frame.DataFrame'>\n",
      "RangeIndex: 51717 entries, 0 to 51716\n",
      "Data columns (total 17 columns):\n",
      " #   Column                       Non-Null Count  Dtype \n",
      "---  ------                       --------------  ----- \n",
      " 0   url                          51717 non-null  object\n",
      " 1   address                      51717 non-null  object\n",
      " 2   name                         51717 non-null  object\n",
      " 3   online_order                 51717 non-null  object\n",
      " 4   book_table                   51717 non-null  object\n",
      " 5   rate                         43942 non-null  object\n",
      " 6   votes                        51717 non-null  int64 \n",
      " 7   phone                        50509 non-null  object\n",
      " 8   location                     51696 non-null  object\n",
      " 9   rest_type                    51490 non-null  object\n",
      " 10  dish_liked                   23639 non-null  object\n",
      " 11  cuisines                     51672 non-null  object\n",
      " 12  approx_cost(for two people)  51371 non-null  object\n",
      " 13  reviews_list                 51717 non-null  object\n",
      " 14  menu_item                    51717 non-null  object\n",
      " 15  listed_in(type)              51717 non-null  object\n",
      " 16  listed_in(city)              51717 non-null  object\n",
      "dtypes: int64(1), object(16)\n",
      "memory usage: 6.7+ MB\n"
     ]
    }
   ],
   "source": [
    "df.info()"
   ]
  },
  {
   "cell_type": "code",
   "execution_count": 6,
   "metadata": {},
   "outputs": [
    {
     "data": {
      "text/plain": [
       "['address',\n",
       " 'approx_cost(for two people)',\n",
       " 'book_table',\n",
       " 'cuisines',\n",
       " 'dish_liked',\n",
       " 'listed_in(city)',\n",
       " 'listed_in(type)',\n",
       " 'location',\n",
       " 'menu_item',\n",
       " 'name',\n",
       " 'online_order',\n",
       " 'phone',\n",
       " 'rate',\n",
       " 'rest_type',\n",
       " 'reviews_list',\n",
       " 'url',\n",
       " 'votes']"
      ]
     },
     "execution_count": 6,
     "metadata": {},
     "output_type": "execute_result"
    }
   ],
   "source": [
    "sorted(df)"
   ]
  },
  {
   "cell_type": "code",
   "execution_count": 7,
   "metadata": {},
   "outputs": [
    {
     "data": {
      "text/plain": [
       "url                                0\n",
       "address                            0\n",
       "name                               0\n",
       "online_order                       0\n",
       "book_table                         0\n",
       "rate                            7775\n",
       "votes                              0\n",
       "phone                           1208\n",
       "location                          21\n",
       "rest_type                        227\n",
       "dish_liked                     28078\n",
       "cuisines                          45\n",
       "approx_cost(for two people)      346\n",
       "reviews_list                       0\n",
       "menu_item                          0\n",
       "listed_in(type)                    0\n",
       "listed_in(city)                    0\n",
       "dtype: int64"
      ]
     },
     "execution_count": 7,
     "metadata": {},
     "output_type": "execute_result"
    }
   ],
   "source": [
    "df.isnull().sum()"
   ]
  },
  {
   "cell_type": "code",
   "execution_count": 8,
   "metadata": {},
   "outputs": [],
   "source": [
    "df=df.rename(columns={'approx_cost(for two people)':'cost','listed_in(type)':'type','listed_in(city)':'city'})"
   ]
  },
  {
   "cell_type": "code",
   "execution_count": 9,
   "metadata": {
    "scrolled": true
   },
   "outputs": [
    {
     "data": {
      "text/plain": [
       "array(['Casual Dining', 'Cafe, Casual Dining', 'Quick Bites',\n",
       "       'Casual Dining, Cafe', 'Cafe', 'Quick Bites, Cafe',\n",
       "       'Cafe, Quick Bites', 'Delivery', 'Mess', 'Dessert Parlor',\n",
       "       'Bakery, Dessert Parlor', 'Pub', 'Bakery', 'Takeaway, Delivery',\n",
       "       'Fine Dining', 'Beverage Shop', 'Sweet Shop', 'Bar',\n",
       "       'Beverage Shop, Quick Bites', 'Confectionery',\n",
       "       'Quick Bites, Beverage Shop', 'Dessert Parlor, Sweet Shop',\n",
       "       'Bakery, Quick Bites', 'Sweet Shop, Quick Bites', 'Kiosk',\n",
       "       'Food Truck', 'Quick Bites, Dessert Parlor',\n",
       "       'Beverage Shop, Dessert Parlor', 'Takeaway', 'Pub, Casual Dining',\n",
       "       'Casual Dining, Bar', 'Dessert Parlor, Beverage Shop',\n",
       "       'Quick Bites, Bakery', 'Dessert Parlor, Quick Bites',\n",
       "       'Microbrewery, Casual Dining', 'Lounge', 'Bar, Casual Dining',\n",
       "       'Food Court', 'Cafe, Bakery', nan, 'Dhaba',\n",
       "       'Quick Bites, Sweet Shop', 'Microbrewery',\n",
       "       'Food Court, Quick Bites', 'Pub, Bar', 'Casual Dining, Pub',\n",
       "       'Lounge, Bar', 'Food Court, Dessert Parlor',\n",
       "       'Casual Dining, Sweet Shop', 'Food Court, Casual Dining',\n",
       "       'Casual Dining, Microbrewery', 'Sweet Shop, Dessert Parlor',\n",
       "       'Bakery, Beverage Shop', 'Lounge, Casual Dining',\n",
       "       'Cafe, Food Court', 'Beverage Shop, Cafe', 'Cafe, Dessert Parlor',\n",
       "       'Dessert Parlor, Cafe', 'Dessert Parlor, Bakery',\n",
       "       'Microbrewery, Pub', 'Bakery, Food Court', 'Club',\n",
       "       'Quick Bites, Food Court', 'Bakery, Cafe', 'Bar, Cafe',\n",
       "       'Pub, Cafe', 'Casual Dining, Irani Cafee', 'Fine Dining, Lounge',\n",
       "       'Bar, Quick Bites', 'Bakery, Kiosk', 'Pub, Microbrewery',\n",
       "       'Microbrewery, Lounge', 'Fine Dining, Microbrewery',\n",
       "       'Fine Dining, Bar', 'Mess, Quick Bites', 'Dessert Parlor, Kiosk',\n",
       "       'Bhojanalya', 'Casual Dining, Quick Bites', 'Pop Up', 'Cafe, Bar',\n",
       "       'Casual Dining, Lounge', 'Bakery, Sweet Shop', 'Microbrewery, Bar',\n",
       "       'Cafe, Lounge', 'Bar, Pub', 'Lounge, Cafe', 'Club, Casual Dining',\n",
       "       'Quick Bites, Mess', 'Quick Bites, Meat Shop',\n",
       "       'Quick Bites, Kiosk', 'Lounge, Microbrewery',\n",
       "       'Food Court, Beverage Shop', 'Dessert Parlor, Food Court',\n",
       "       'Bar, Lounge'], dtype=object)"
      ]
     },
     "execution_count": 9,
     "metadata": {},
     "output_type": "execute_result"
    }
   ],
   "source": [
    "sorted(df)\n",
    "df.rest_type.unique()"
   ]
  },
  {
   "cell_type": "markdown",
   "metadata": {},
   "source": [
    "## Drop Null Value"
   ]
  },
  {
   "cell_type": "code",
   "execution_count": 10,
   "metadata": {},
   "outputs": [
    {
     "data": {
      "text/plain": [
       "url             0\n",
       "address         0\n",
       "name            0\n",
       "online_order    0\n",
       "book_table      0\n",
       "rate            0\n",
       "votes           0\n",
       "phone           0\n",
       "location        0\n",
       "rest_type       0\n",
       "dish_liked      0\n",
       "cuisines        0\n",
       "cost            0\n",
       "reviews_list    0\n",
       "menu_item       0\n",
       "type            0\n",
       "city            0\n",
       "dtype: int64"
      ]
     },
     "execution_count": 10,
     "metadata": {},
     "output_type": "execute_result"
    }
   ],
   "source": [
    "df.dropna(inplace=True)\n",
    "df.isnull().sum()"
   ]
  },
  {
   "cell_type": "markdown",
   "metadata": {},
   "source": [
    "## Map the Categorical Data yes = 1, no = 0"
   ]
  },
  {
   "cell_type": "code",
   "execution_count": 75,
   "metadata": {},
   "outputs": [
    {
     "data": {
      "text/plain": [
       "0        1\n",
       "1        0\n",
       "2        0\n",
       "3        0\n",
       "4        0\n",
       "        ..\n",
       "51705    1\n",
       "51707    0\n",
       "51708    0\n",
       "51711    0\n",
       "51715    1\n",
       "Name: book_table, Length: 23193, dtype: int32"
      ]
     },
     "execution_count": 75,
     "metadata": {},
     "output_type": "execute_result"
    }
   ],
   "source": [
    "X = df.copy()\n",
    "\n",
    "le = LabelEncoder()  \n",
    "X.online_order = le.fit_transform(X.online_order)\n",
    "X.book_table = le.fit_transform(X.book_table)\n",
    "X['online_order'].unique()\n",
    "X['book_table'].unique()\n",
    "# X.online_order.astype(float)\n",
    "# X.book_table.astype(float)\n",
    "X.book_table"
   ]
  },
  {
   "cell_type": "code",
   "execution_count": 76,
   "metadata": {},
   "outputs": [
    {
     "data": {
      "text/plain": [
       "0        1\n",
       "1        1\n",
       "2        1\n",
       "3        0\n",
       "4        0\n",
       "        ..\n",
       "51705    1\n",
       "51707    0\n",
       "51708    0\n",
       "51711    0\n",
       "51715    0\n",
       "Name: online_order, Length: 23193, dtype: int32"
      ]
     },
     "execution_count": 76,
     "metadata": {},
     "output_type": "execute_result"
    }
   ],
   "source": [
    "X.online_order"
   ]
  },
  {
   "cell_type": "code",
   "execution_count": 12,
   "metadata": {},
   "outputs": [
    {
     "data": {
      "text/plain": [
       "array(['4.1/5', '3.8/5', '3.7/5', '4.6/5', '4.0/5', '4.2/5', '3.9/5',\n",
       "       '3.0/5', '3.6/5', '2.8/5', '4.4/5', '3.1/5', '4.3/5', '2.6/5',\n",
       "       '3.3/5', '3.5/5', '3.8 /5', '3.2/5', '4.5/5', '2.5/5', '2.9/5',\n",
       "       '3.4/5', '2.7/5', '4.7/5', 'NEW', '2.4/5', '2.2/5', '2.3/5',\n",
       "       '4.8/5', '3.9 /5', '4.2 /5', '4.0 /5', '4.1 /5', '2.9 /5',\n",
       "       '2.7 /5', '2.5 /5', '2.6 /5', '4.5 /5', '4.3 /5', '3.7 /5',\n",
       "       '4.4 /5', '4.9/5', '2.1/5', '2.0/5', '1.8/5', '3.4 /5', '3.6 /5',\n",
       "       '3.3 /5', '4.6 /5', '4.9 /5', '3.2 /5', '3.0 /5', '2.8 /5',\n",
       "       '3.5 /5', '3.1 /5', '4.8 /5', '2.3 /5', '4.7 /5', '2.4 /5',\n",
       "       '2.1 /5', '2.2 /5', '2.0 /5', '1.8 /5'], dtype=object)"
      ]
     },
     "execution_count": 12,
     "metadata": {},
     "output_type": "execute_result"
    }
   ],
   "source": [
    "X.rate.unique()"
   ]
  },
  {
   "cell_type": "code",
   "execution_count": 81,
   "metadata": {},
   "outputs": [
    {
     "data": {
      "text/plain": [
       "0        4.1\n",
       "1        4.1\n",
       "2        3.8\n",
       "3        3.7\n",
       "4        3.8\n",
       "        ... \n",
       "23041    3.8\n",
       "23042    3.9\n",
       "23043    2.8\n",
       "23044    2.5\n",
       "23045    4.3\n",
       "Name: rate, Length: 23046, dtype: float64"
      ]
     },
     "execution_count": 81,
     "metadata": {},
     "output_type": "execute_result"
    }
   ],
   "source": [
    "# X = X.loc[X.rate !='NEW']\n",
    "\n",
    "# X = X.loc[X.rate !='-'].reset_index(drop=True)\n",
    "\n",
    "X.rate= X.rate.astype(str)\n",
    "\n",
    "X.rate=X.rate.apply(lambda x : x.replace('/5',''))\n",
    "X.rate=X.rate.astype(float)\n",
    "X.rate"
   ]
  },
  {
   "cell_type": "code",
   "execution_count": 83,
   "metadata": {},
   "outputs": [
    {
     "data": {
      "text/plain": [
       "0         800.0\n",
       "1         800.0\n",
       "2         800.0\n",
       "3         300.0\n",
       "4         600.0\n",
       "          ...  \n",
       "23041    1200.0\n",
       "23042    2000.0\n",
       "23043    1200.0\n",
       "23044     800.0\n",
       "23045    2500.0\n",
       "Name: cost, Length: 23046, dtype: float64"
      ]
     },
     "execution_count": 83,
     "metadata": {},
     "output_type": "execute_result"
    }
   ],
   "source": [
    "X.cost = X.cost.astype(str)\n",
    "X.cost = X.cost.apply(lambda x : x.replace(',',''))\n",
    "X.cost = X.cost.astype(float)\n",
    "X.cost"
   ]
  },
  {
   "cell_type": "code",
   "execution_count": 15,
   "metadata": {},
   "outputs": [
    {
     "data": {
      "text/plain": [
       "0        775.0\n",
       "1        787.0\n",
       "2        918.0\n",
       "3         88.0\n",
       "4        166.0\n",
       "         ...  \n",
       "23041    128.0\n",
       "23042     77.0\n",
       "23043    161.0\n",
       "23044     81.0\n",
       "23045    236.0\n",
       "Name: votes, Length: 23046, dtype: float64"
      ]
     },
     "execution_count": 15,
     "metadata": {},
     "output_type": "execute_result"
    }
   ],
   "source": [
    "X.votes.astype(float)"
   ]
  },
  {
   "cell_type": "markdown",
   "metadata": {},
   "source": [
    "### Delete Duplicates"
   ]
  },
  {
   "cell_type": "code",
   "execution_count": 16,
   "metadata": {},
   "outputs": [],
   "source": [
    "X.drop_duplicates(keep='first',inplace = True)"
   ]
  },
  {
   "cell_type": "code",
   "execution_count": 17,
   "metadata": {},
   "outputs": [
    {
     "data": {
      "text/html": [
       "<div>\n",
       "<style scoped>\n",
       "    .dataframe tbody tr th:only-of-type {\n",
       "        vertical-align: middle;\n",
       "    }\n",
       "\n",
       "    .dataframe tbody tr th {\n",
       "        vertical-align: top;\n",
       "    }\n",
       "\n",
       "    .dataframe thead th {\n",
       "        text-align: right;\n",
       "    }\n",
       "</style>\n",
       "<table border=\"1\" class=\"dataframe\">\n",
       "  <thead>\n",
       "    <tr style=\"text-align: right;\">\n",
       "      <th></th>\n",
       "      <th>url</th>\n",
       "      <th>address</th>\n",
       "      <th>name</th>\n",
       "      <th>online_order</th>\n",
       "      <th>book_table</th>\n",
       "      <th>rate</th>\n",
       "      <th>votes</th>\n",
       "      <th>phone</th>\n",
       "      <th>location</th>\n",
       "      <th>rest_type</th>\n",
       "      <th>dish_liked</th>\n",
       "      <th>cuisines</th>\n",
       "      <th>cost</th>\n",
       "      <th>reviews_list</th>\n",
       "      <th>menu_item</th>\n",
       "      <th>type</th>\n",
       "      <th>city</th>\n",
       "    </tr>\n",
       "  </thead>\n",
       "  <tbody>\n",
       "    <tr>\n",
       "      <th>0</th>\n",
       "      <td>https://www.zomato.com/bangalore/jalsa-banasha...</td>\n",
       "      <td>942, 21st Main Road, 2nd Stage, Banashankari, ...</td>\n",
       "      <td>Jalsa</td>\n",
       "      <td>1</td>\n",
       "      <td>1</td>\n",
       "      <td>4.1</td>\n",
       "      <td>775</td>\n",
       "      <td>080 42297555\\r\\n+91 9743772233</td>\n",
       "      <td>Banashankari</td>\n",
       "      <td>Casual Dining</td>\n",
       "      <td>Pasta, Lunch Buffet, Masala Papad, Paneer Laja...</td>\n",
       "      <td>North Indian, Mughlai, Chinese</td>\n",
       "      <td>800.0</td>\n",
       "      <td>[('Rated 4.0', 'RATED\\n  A beautiful place to ...</td>\n",
       "      <td>[]</td>\n",
       "      <td>Buffet</td>\n",
       "      <td>Banashankari</td>\n",
       "    </tr>\n",
       "    <tr>\n",
       "      <th>1</th>\n",
       "      <td>https://www.zomato.com/bangalore/spice-elephan...</td>\n",
       "      <td>2nd Floor, 80 Feet Road, Near Big Bazaar, 6th ...</td>\n",
       "      <td>Spice Elephant</td>\n",
       "      <td>1</td>\n",
       "      <td>0</td>\n",
       "      <td>4.1</td>\n",
       "      <td>787</td>\n",
       "      <td>080 41714161</td>\n",
       "      <td>Banashankari</td>\n",
       "      <td>Casual Dining</td>\n",
       "      <td>Momos, Lunch Buffet, Chocolate Nirvana, Thai G...</td>\n",
       "      <td>Chinese, North Indian, Thai</td>\n",
       "      <td>800.0</td>\n",
       "      <td>[('Rated 4.0', 'RATED\\n  Had been here for din...</td>\n",
       "      <td>[]</td>\n",
       "      <td>Buffet</td>\n",
       "      <td>Banashankari</td>\n",
       "    </tr>\n",
       "    <tr>\n",
       "      <th>2</th>\n",
       "      <td>https://www.zomato.com/SanchurroBangalore?cont...</td>\n",
       "      <td>1112, Next to KIMS Medical College, 17th Cross...</td>\n",
       "      <td>San Churro Cafe</td>\n",
       "      <td>1</td>\n",
       "      <td>0</td>\n",
       "      <td>3.8</td>\n",
       "      <td>918</td>\n",
       "      <td>+91 9663487993</td>\n",
       "      <td>Banashankari</td>\n",
       "      <td>Cafe, Casual Dining</td>\n",
       "      <td>Churros, Cannelloni, Minestrone Soup, Hot Choc...</td>\n",
       "      <td>Cafe, Mexican, Italian</td>\n",
       "      <td>800.0</td>\n",
       "      <td>[('Rated 3.0', \"RATED\\n  Ambience is not that ...</td>\n",
       "      <td>[]</td>\n",
       "      <td>Buffet</td>\n",
       "      <td>Banashankari</td>\n",
       "    </tr>\n",
       "    <tr>\n",
       "      <th>3</th>\n",
       "      <td>https://www.zomato.com/bangalore/addhuri-udupi...</td>\n",
       "      <td>1st Floor, Annakuteera, 3rd Stage, Banashankar...</td>\n",
       "      <td>Addhuri Udupi Bhojana</td>\n",
       "      <td>0</td>\n",
       "      <td>0</td>\n",
       "      <td>3.7</td>\n",
       "      <td>88</td>\n",
       "      <td>+91 9620009302</td>\n",
       "      <td>Banashankari</td>\n",
       "      <td>Quick Bites</td>\n",
       "      <td>Masala Dosa</td>\n",
       "      <td>South Indian, North Indian</td>\n",
       "      <td>300.0</td>\n",
       "      <td>[('Rated 4.0', \"RATED\\n  Great food and proper...</td>\n",
       "      <td>[]</td>\n",
       "      <td>Buffet</td>\n",
       "      <td>Banashankari</td>\n",
       "    </tr>\n",
       "    <tr>\n",
       "      <th>4</th>\n",
       "      <td>https://www.zomato.com/bangalore/grand-village...</td>\n",
       "      <td>10, 3rd Floor, Lakshmi Associates, Gandhi Baza...</td>\n",
       "      <td>Grand Village</td>\n",
       "      <td>0</td>\n",
       "      <td>0</td>\n",
       "      <td>3.8</td>\n",
       "      <td>166</td>\n",
       "      <td>+91 8026612447\\r\\n+91 9901210005</td>\n",
       "      <td>Basavanagudi</td>\n",
       "      <td>Casual Dining</td>\n",
       "      <td>Panipuri, Gol Gappe</td>\n",
       "      <td>North Indian, Rajasthani</td>\n",
       "      <td>600.0</td>\n",
       "      <td>[('Rated 4.0', 'RATED\\n  Very good restaurant ...</td>\n",
       "      <td>[]</td>\n",
       "      <td>Buffet</td>\n",
       "      <td>Banashankari</td>\n",
       "    </tr>\n",
       "  </tbody>\n",
       "</table>\n",
       "</div>"
      ],
      "text/plain": [
       "                                                 url  \\\n",
       "0  https://www.zomato.com/bangalore/jalsa-banasha...   \n",
       "1  https://www.zomato.com/bangalore/spice-elephan...   \n",
       "2  https://www.zomato.com/SanchurroBangalore?cont...   \n",
       "3  https://www.zomato.com/bangalore/addhuri-udupi...   \n",
       "4  https://www.zomato.com/bangalore/grand-village...   \n",
       "\n",
       "                                             address                   name  \\\n",
       "0  942, 21st Main Road, 2nd Stage, Banashankari, ...                  Jalsa   \n",
       "1  2nd Floor, 80 Feet Road, Near Big Bazaar, 6th ...         Spice Elephant   \n",
       "2  1112, Next to KIMS Medical College, 17th Cross...        San Churro Cafe   \n",
       "3  1st Floor, Annakuteera, 3rd Stage, Banashankar...  Addhuri Udupi Bhojana   \n",
       "4  10, 3rd Floor, Lakshmi Associates, Gandhi Baza...          Grand Village   \n",
       "\n",
       "   online_order  book_table  rate  votes                             phone  \\\n",
       "0             1           1   4.1    775    080 42297555\\r\\n+91 9743772233   \n",
       "1             1           0   4.1    787                      080 41714161   \n",
       "2             1           0   3.8    918                    +91 9663487993   \n",
       "3             0           0   3.7     88                    +91 9620009302   \n",
       "4             0           0   3.8    166  +91 8026612447\\r\\n+91 9901210005   \n",
       "\n",
       "       location            rest_type  \\\n",
       "0  Banashankari        Casual Dining   \n",
       "1  Banashankari        Casual Dining   \n",
       "2  Banashankari  Cafe, Casual Dining   \n",
       "3  Banashankari          Quick Bites   \n",
       "4  Basavanagudi        Casual Dining   \n",
       "\n",
       "                                          dish_liked  \\\n",
       "0  Pasta, Lunch Buffet, Masala Papad, Paneer Laja...   \n",
       "1  Momos, Lunch Buffet, Chocolate Nirvana, Thai G...   \n",
       "2  Churros, Cannelloni, Minestrone Soup, Hot Choc...   \n",
       "3                                        Masala Dosa   \n",
       "4                                Panipuri, Gol Gappe   \n",
       "\n",
       "                         cuisines   cost  \\\n",
       "0  North Indian, Mughlai, Chinese  800.0   \n",
       "1     Chinese, North Indian, Thai  800.0   \n",
       "2          Cafe, Mexican, Italian  800.0   \n",
       "3      South Indian, North Indian  300.0   \n",
       "4        North Indian, Rajasthani  600.0   \n",
       "\n",
       "                                        reviews_list menu_item    type  \\\n",
       "0  [('Rated 4.0', 'RATED\\n  A beautiful place to ...        []  Buffet   \n",
       "1  [('Rated 4.0', 'RATED\\n  Had been here for din...        []  Buffet   \n",
       "2  [('Rated 3.0', \"RATED\\n  Ambience is not that ...        []  Buffet   \n",
       "3  [('Rated 4.0', \"RATED\\n  Great food and proper...        []  Buffet   \n",
       "4  [('Rated 4.0', 'RATED\\n  Very good restaurant ...        []  Buffet   \n",
       "\n",
       "           city  \n",
       "0  Banashankari  \n",
       "1  Banashankari  \n",
       "2  Banashankari  \n",
       "3  Banashankari  \n",
       "4  Banashankari  "
      ]
     },
     "execution_count": 17,
     "metadata": {},
     "output_type": "execute_result"
    }
   ],
   "source": [
    "X.head()"
   ]
  },
  {
   "cell_type": "markdown",
   "metadata": {},
   "source": [
    "# Data Visualization"
   ]
  },
  {
   "cell_type": "code",
   "execution_count": 18,
   "metadata": {},
   "outputs": [
    {
     "data": {
      "text/plain": [
       "Text(0.5, 1.0, 'Location')"
      ]
     },
     "execution_count": 18,
     "metadata": {},
     "output_type": "execute_result"
    },
    {
     "data": {
      "image/png": "[encoded data removed]",
      "text/plain": [
       "<Figure size 720x720 with 1 Axes>"
      ]
     },
     "metadata": {
      "needs_background": "light"
     },
     "output_type": "display_data"
    }
   ],
   "source": [
    "sns.countplot(df['city'])\n",
    "sns.countplot(df['city']).set_xticklabels(sns.countplot(df['city']).get_xticklabels(), rotation=90, ha=\"right\")\n",
    "fig = plt.gcf()\n",
    "fig.set_size_inches(10,10)\n",
    "plt.title('Location')"
   ]
  },
  {
   "cell_type": "code",
   "execution_count": 19,
   "metadata": {},
   "outputs": [
    {
     "data": {
      "image/png": "[encoded data removed]",
      "text/plain": [
       "<Figure size 720x720 with 1 Axes>"
      ]
     },
     "metadata": {
      "needs_background": "light"
     },
     "output_type": "display_data"
    }
   ],
   "source": [
    "# Location Rating\n",
    "loc_plt=pd.crosstab(X['rate'],X['city'])\n",
    "loc_plt.plot(kind='bar',stacked=True);\n",
    "fig = plt.gcf()\n",
    "fig.set_size_inches(10,10)\n",
    "plt.title('Location - Rating',fontsize=15,fontweight='bold')\n",
    "plt.ylabel('Location',fontsize=10,fontweight='bold')\n",
    "plt.xlabel('Rating',fontsize=10,fontweight='bold')\n",
    "plt.xticks(fontsize=10,fontweight='bold')\n",
    "plt.yticks(fontsize=10,fontweight='bold');\n",
    "plt.legend().remove();"
   ]
  },
  {
   "cell_type": "code",
   "execution_count": 20,
   "metadata": {},
   "outputs": [
    {
     "data": {
      "image/png": "[encoded data removed]",
      "text/plain": [
       "<Figure size 720x720 with 1 Axes>"
      ]
     },
     "metadata": {
      "needs_background": "light"
     },
     "output_type": "display_data"
    }
   ],
   "source": [
    "#Type of rating\n",
    "type_plt=pd.crosstab(X['rate'],df['type'])\n",
    "type_plt.plot(kind='bar',stacked=True);\n",
    "fig = plt.gcf()\n",
    "fig.set_size_inches(10,10)\n",
    "plt.title('Type - Rating',fontsize=15,fontweight='bold')\n",
    "plt.ylabel('Type',fontsize=10,fontweight='bold')\n",
    "plt.xlabel('Rating',fontsize=10,fontweight='bold')\n",
    "plt.xticks(fontsize=10,fontweight='bold')\n",
    "plt.yticks(fontsize=10,fontweight='bold');"
   ]
  },
  {
   "cell_type": "code",
   "execution_count": 21,
   "metadata": {},
   "outputs": [
    {
     "data": {
      "text/plain": [
       "<AxesSubplot:xlabel='online_order', ylabel='rate'>"
      ]
     },
     "execution_count": 21,
     "metadata": {},
     "output_type": "execute_result"
    },
    {
     "data": {
      "image/png": "[encoded data removed]",
      "text/plain": [
       "<Figure size 432x288 with 1 Axes>"
      ]
     },
     "metadata": {
      "needs_background": "light"
     },
     "output_type": "display_data"
    }
   ],
   "source": [
    "# Outlier\n",
    "sns.boxplot(x=X.online_order, y =X.rate ,data = X)"
   ]
  },
  {
   "cell_type": "code",
   "execution_count": 22,
   "metadata": {},
   "outputs": [
    {
     "data": {
      "text/plain": [
       "<AxesSubplot:xlabel='book_table', ylabel='rate'>"
      ]
     },
     "execution_count": 22,
     "metadata": {},
     "output_type": "execute_result"
    },
    {
     "data": {
      "image/png": "[encoded data removed]",
      "text/plain": [
       "<Figure size 432x288 with 1 Axes>"
      ]
     },
     "metadata": {
      "needs_background": "light"
     },
     "output_type": "display_data"
    }
   ],
   "source": [
    "sns.boxplot(x=X.book_table, y =X.rate ,data = X)"
   ]
  },
  {
   "cell_type": "markdown",
   "metadata": {},
   "source": [
    "<h4><i>The above box plot also helps us look into the outliers. This box plot is\n",
    "regarding how table booking availability is seen in restaurants with\n",
    "rating over 4.\n",
    "<i><h4>"
   ]
  },
  {
   "cell_type": "code",
   "execution_count": 23,
   "metadata": {},
   "outputs": [
    {
     "data": {
      "text/plain": [
       "Text(0.5, 1.0, 'Restaurants allowing table booking or not')"
      ]
     },
     "execution_count": 23,
     "metadata": {},
     "output_type": "execute_result"
    },
    {
     "data": {
      "image/png": "[encoded data removed]",
      "text/plain": [
       "<Figure size 432x432 with 1 Axes>"
      ]
     },
     "metadata": {
      "needs_background": "light"
     },
     "output_type": "display_data"
    }
   ],
   "source": [
    "#Restaurant allowing table booking or not\n",
    "sns.countplot(df['book_table'])\n",
    "fig = plt.gcf()\n",
    "fig.set_size_inches(6,6)\n",
    "plt.title('Restaurants allowing table booking or not')"
   ]
  },
  {
   "cell_type": "code",
   "execution_count": 24,
   "metadata": {},
   "outputs": [
    {
     "data": {
      "text/plain": [
       "Text(0.5, 1.0, 'Restaurants delivering online or not')"
      ]
     },
     "execution_count": 24,
     "metadata": {},
     "output_type": "execute_result"
    },
    {
     "data": {
      "image/png": "[encoded data removed]",
      "text/plain": [
       "<Figure size 720x720 with 1 Axes>"
      ]
     },
     "metadata": {
      "needs_background": "light"
     },
     "output_type": "display_data"
    }
   ],
   "source": [
    "#Restaurant Delevering  online or not \n",
    "sns.countplot(df['online_order'])\n",
    "fig = plt.gcf()\n",
    "fig.set_size_inches(10,10)\n",
    "plt.title('Restaurants delivering online or not')\n"
   ]
  },
  {
   "cell_type": "code",
   "execution_count": 25,
   "metadata": {},
   "outputs": [
    {
     "data": {
      "text/plain": [
       "Text(0.5, 1.0, 'Type of Service')"
      ]
     },
     "execution_count": 25,
     "metadata": {},
     "output_type": "execute_result"
    },
    {
     "data": {
      "image/png": "[encoded data removed]",
      "text/plain": [
       "<Figure size 720x720 with 1 Axes>"
      ]
     },
     "metadata": {
      "needs_background": "light"
     },
     "output_type": "display_data"
    }
   ],
   "source": [
    "#Type of Service\n",
    "sns.countplot(X['type'])\n",
    "sns.countplot(X['type']).set_xticklabels(sns.countplot(X['type']).get_xticklabels(), rotation=90, ha=\"right\")\n",
    "fig = plt.gcf()\n",
    "fig.set_size_inches(10,10)\n",
    "plt.title('Type of Service')"
   ]
  },
  {
   "cell_type": "code",
   "execution_count": 26,
   "metadata": {},
   "outputs": [
    {
     "data": {
      "text/plain": [
       "Text(0.5, 1.0, 'Top 10 restuarants in Bangalore')"
      ]
     },
     "execution_count": 26,
     "metadata": {},
     "output_type": "execute_result"
    },
    {
     "data": {
      "image/png": "[encoded data removed]",
      "text/plain": [
       "<Figure size 432x288 with 1 Axes>"
      ]
     },
     "metadata": {
      "needs_background": "light"
     },
     "output_type": "display_data"
    }
   ],
   "source": [
    "#Top 10 restuarants in Bangalore\n",
    "temp =X.name.value_counts()\n",
    "temp = temp.head(10).plot(kind = 'barh',color='cyan')\n",
    "temp.set_title('Top 10 restuarants in Bangalore')"
   ]
  },
  {
   "cell_type": "markdown",
   "metadata": {},
   "source": [
    "\n",
    "<h4> <i>\n",
    "    Cost and Rate distribution according to online ordering and table booking <i> <h4>"
   ]
  },
  {
   "cell_type": "code",
   "execution_count": 27,
   "metadata": {},
   "outputs": [
    {
     "data": {
      "text/plain": [
       "<AxesSubplot:xlabel='cost', ylabel='rate'>"
      ]
     },
     "execution_count": 27,
     "metadata": {},
     "output_type": "execute_result"
    },
    {
     "data": {
      "image/png": "[encoded data removed]",
      "text/plain": [
       "<Figure size 432x288 with 1 Axes>"
      ]
     },
     "metadata": {
      "needs_background": "light"
     },
     "output_type": "display_data"
    }
   ],
   "source": [
    "sns.scatterplot(data = X ,x='cost', y='rate',hue='online_order',\n",
    "    sizes=(50, 200), legend=\"full\")"
   ]
  },
  {
   "cell_type": "code",
   "execution_count": 28,
   "metadata": {},
   "outputs": [
    {
     "data": {
      "text/plain": [
       "<AxesSubplot:xlabel='cost', ylabel='rate'>"
      ]
     },
     "execution_count": 28,
     "metadata": {},
     "output_type": "execute_result"
    },
    {
     "data": {
      "image/png": "[encoded data removed]",
      "text/plain": [
       "<Figure size 432x288 with 1 Axes>"
      ]
     },
     "metadata": {
      "needs_background": "light"
     },
     "output_type": "display_data"
    }
   ],
   "source": [
    "sns.scatterplot(data = X ,x='cost', y='rate',hue='book_table',\n",
    "    sizes=(20, 200), legend=\"full\")"
   ]
  },
  {
   "cell_type": "markdown",
   "metadata": {},
   "source": [
    "<h4><i>The above scatterplots shows the correspondence between the\n",
    "cost, online ordering, bookings and rating of the restaurant.<h4><i>"
   ]
  },
  {
   "cell_type": "code",
   "execution_count": 29,
   "metadata": {},
   "outputs": [
    {
     "data": {
      "text/plain": [
       "Text(0.5, 1.0, 'Cost of Restuarant')"
      ]
     },
     "execution_count": 29,
     "metadata": {},
     "output_type": "execute_result"
    },
    {
     "data": {
      "image/png": "[encoded data removed]",
      "text/plain": [
       "<Figure size 864x864 with 1 Axes>"
      ]
     },
     "metadata": {
      "needs_background": "light"
     },
     "output_type": "display_data"
    }
   ],
   "source": [
    "#cost of restaurant\n",
    "\n",
    "sns.countplot(X['cost'])\n",
    "sns.countplot(X['cost']).set_xticklabels(sns.countplot(X['cost']).get_xticklabels(), rotation=90, ha=\"right\")\n",
    "fig = plt.gcf()\n",
    "fig.set_size_inches(12,12)\n",
    "plt.title('Cost of Restuarant')"
   ]
  },
  {
   "cell_type": "markdown",
   "metadata": {},
   "source": [
    "<h4><i>Restuarants with around 300 to 800 rupees avergae bill(two people) are high in number<i><h4>"
   ]
  },
  {
   "cell_type": "markdown",
   "metadata": {},
   "source": [
    "## Drop Irrelavant Feature colounm"
   ]
  },
  {
   "cell_type": "code",
   "execution_count": 30,
   "metadata": {},
   "outputs": [],
   "source": [
    "X = X.drop(['url','address','phone','location','city','menu_item'],axis=1)"
   ]
  },
  {
   "cell_type": "code",
   "execution_count": 31,
   "metadata": {},
   "outputs": [
    {
     "data": {
      "text/html": [
       "<div>\n",
       "<style scoped>\n",
       "    .dataframe tbody tr th:only-of-type {\n",
       "        vertical-align: middle;\n",
       "    }\n",
       "\n",
       "    .dataframe tbody tr th {\n",
       "        vertical-align: top;\n",
       "    }\n",
       "\n",
       "    .dataframe thead th {\n",
       "        text-align: right;\n",
       "    }\n",
       "</style>\n",
       "<table border=\"1\" class=\"dataframe\">\n",
       "  <thead>\n",
       "    <tr style=\"text-align: right;\">\n",
       "      <th></th>\n",
       "      <th>book_table</th>\n",
       "      <th>rate</th>\n",
       "      <th>votes</th>\n",
       "      <th>cost</th>\n",
       "    </tr>\n",
       "    <tr>\n",
       "      <th>online_order</th>\n",
       "      <th></th>\n",
       "      <th></th>\n",
       "      <th></th>\n",
       "      <th></th>\n",
       "    </tr>\n",
       "  </thead>\n",
       "  <tbody>\n",
       "    <tr>\n",
       "      <th>0</th>\n",
       "      <td>0.357979</td>\n",
       "      <td>3.930227</td>\n",
       "      <td>744.678767</td>\n",
       "      <td>994.039117</td>\n",
       "    </tr>\n",
       "    <tr>\n",
       "      <th>1</th>\n",
       "      <td>0.222434</td>\n",
       "      <td>3.893680</td>\n",
       "      <td>547.026017</td>\n",
       "      <td>655.017488</td>\n",
       "    </tr>\n",
       "  </tbody>\n",
       "</table>\n",
       "</div>"
      ],
      "text/plain": [
       "              book_table      rate       votes        cost\n",
       "online_order                                              \n",
       "0               0.357979  3.930227  744.678767  994.039117\n",
       "1               0.222434  3.893680  547.026017  655.017488"
      ]
     },
     "execution_count": 31,
     "metadata": {},
     "output_type": "execute_result"
    }
   ],
   "source": [
    "# key finding\n",
    "X.groupby('online_order').mean()"
   ]
  },
  {
   "cell_type": "code",
   "execution_count": 32,
   "metadata": {},
   "outputs": [
    {
     "data": {
      "text/html": [
       "<div>\n",
       "<style scoped>\n",
       "    .dataframe tbody tr th:only-of-type {\n",
       "        vertical-align: middle;\n",
       "    }\n",
       "\n",
       "    .dataframe tbody tr th {\n",
       "        vertical-align: top;\n",
       "    }\n",
       "\n",
       "    .dataframe thead th {\n",
       "        text-align: right;\n",
       "    }\n",
       "</style>\n",
       "<table border=\"1\" class=\"dataframe\">\n",
       "  <thead>\n",
       "    <tr style=\"text-align: right;\">\n",
       "      <th></th>\n",
       "      <th>online_order</th>\n",
       "      <th>rate</th>\n",
       "      <th>votes</th>\n",
       "      <th>cost</th>\n",
       "    </tr>\n",
       "    <tr>\n",
       "      <th>book_table</th>\n",
       "      <th></th>\n",
       "      <th></th>\n",
       "      <th></th>\n",
       "      <th></th>\n",
       "    </tr>\n",
       "  </thead>\n",
       "  <tbody>\n",
       "    <tr>\n",
       "      <th>0</th>\n",
       "      <td>0.745193</td>\n",
       "      <td>3.813349</td>\n",
       "      <td>387.606057</td>\n",
       "      <td>566.271097</td>\n",
       "    </tr>\n",
       "    <tr>\n",
       "      <th>1</th>\n",
       "      <td>0.600066</td>\n",
       "      <td>4.160636</td>\n",
       "      <td>1216.599735</td>\n",
       "      <td>1283.587154</td>\n",
       "    </tr>\n",
       "  </tbody>\n",
       "</table>\n",
       "</div>"
      ],
      "text/plain": [
       "            online_order      rate        votes         cost\n",
       "book_table                                                  \n",
       "0               0.745193  3.813349   387.606057   566.271097\n",
       "1               0.600066  4.160636  1216.599735  1283.587154"
      ]
     },
     "execution_count": 32,
     "metadata": {},
     "output_type": "execute_result"
    }
   ],
   "source": [
    "X.groupby('book_table').mean()"
   ]
  },
  {
   "cell_type": "code",
   "execution_count": 33,
   "metadata": {},
   "outputs": [
    {
     "data": {
      "text/html": [
       "<div>\n",
       "<style scoped>\n",
       "    .dataframe tbody tr th:only-of-type {\n",
       "        vertical-align: middle;\n",
       "    }\n",
       "\n",
       "    .dataframe tbody tr th {\n",
       "        vertical-align: top;\n",
       "    }\n",
       "\n",
       "    .dataframe thead th {\n",
       "        text-align: right;\n",
       "    }\n",
       "</style>\n",
       "<table border=\"1\" class=\"dataframe\">\n",
       "  <thead>\n",
       "    <tr style=\"text-align: right;\">\n",
       "      <th></th>\n",
       "      <th>name</th>\n",
       "      <th>online_order</th>\n",
       "      <th>book_table</th>\n",
       "      <th>rate</th>\n",
       "      <th>votes</th>\n",
       "      <th>rest_type</th>\n",
       "      <th>dish_liked</th>\n",
       "      <th>cuisines</th>\n",
       "      <th>cost</th>\n",
       "      <th>reviews_list</th>\n",
       "      <th>type</th>\n",
       "    </tr>\n",
       "  </thead>\n",
       "  <tbody>\n",
       "    <tr>\n",
       "      <th>0</th>\n",
       "      <td>0</td>\n",
       "      <td>0</td>\n",
       "      <td>0</td>\n",
       "      <td>4.1</td>\n",
       "      <td>775</td>\n",
       "      <td>0</td>\n",
       "      <td>0</td>\n",
       "      <td>0</td>\n",
       "      <td>800.0</td>\n",
       "      <td>0</td>\n",
       "      <td>0</td>\n",
       "    </tr>\n",
       "    <tr>\n",
       "      <th>1</th>\n",
       "      <td>1</td>\n",
       "      <td>0</td>\n",
       "      <td>1</td>\n",
       "      <td>4.1</td>\n",
       "      <td>787</td>\n",
       "      <td>0</td>\n",
       "      <td>1</td>\n",
       "      <td>1</td>\n",
       "      <td>800.0</td>\n",
       "      <td>1</td>\n",
       "      <td>0</td>\n",
       "    </tr>\n",
       "    <tr>\n",
       "      <th>2</th>\n",
       "      <td>2</td>\n",
       "      <td>0</td>\n",
       "      <td>1</td>\n",
       "      <td>3.8</td>\n",
       "      <td>918</td>\n",
       "      <td>1</td>\n",
       "      <td>2</td>\n",
       "      <td>2</td>\n",
       "      <td>800.0</td>\n",
       "      <td>2</td>\n",
       "      <td>0</td>\n",
       "    </tr>\n",
       "    <tr>\n",
       "      <th>3</th>\n",
       "      <td>3</td>\n",
       "      <td>1</td>\n",
       "      <td>1</td>\n",
       "      <td>3.7</td>\n",
       "      <td>88</td>\n",
       "      <td>2</td>\n",
       "      <td>3</td>\n",
       "      <td>3</td>\n",
       "      <td>300.0</td>\n",
       "      <td>3</td>\n",
       "      <td>0</td>\n",
       "    </tr>\n",
       "    <tr>\n",
       "      <th>4</th>\n",
       "      <td>4</td>\n",
       "      <td>1</td>\n",
       "      <td>1</td>\n",
       "      <td>3.8</td>\n",
       "      <td>166</td>\n",
       "      <td>0</td>\n",
       "      <td>4</td>\n",
       "      <td>4</td>\n",
       "      <td>600.0</td>\n",
       "      <td>4</td>\n",
       "      <td>0</td>\n",
       "    </tr>\n",
       "    <tr>\n",
       "      <th>...</th>\n",
       "      <td>...</td>\n",
       "      <td>...</td>\n",
       "      <td>...</td>\n",
       "      <td>...</td>\n",
       "      <td>...</td>\n",
       "      <td>...</td>\n",
       "      <td>...</td>\n",
       "      <td>...</td>\n",
       "      <td>...</td>\n",
       "      <td>...</td>\n",
       "      <td>...</td>\n",
       "    </tr>\n",
       "    <tr>\n",
       "      <th>23041</th>\n",
       "      <td>1484</td>\n",
       "      <td>0</td>\n",
       "      <td>0</td>\n",
       "      <td>3.8</td>\n",
       "      <td>128</td>\n",
       "      <td>33</td>\n",
       "      <td>1780</td>\n",
       "      <td>852</td>\n",
       "      <td>1200.0</td>\n",
       "      <td>2445</td>\n",
       "      <td>6</td>\n",
       "    </tr>\n",
       "    <tr>\n",
       "      <th>23042</th>\n",
       "      <td>1310</td>\n",
       "      <td>1</td>\n",
       "      <td>1</td>\n",
       "      <td>3.9</td>\n",
       "      <td>77</td>\n",
       "      <td>58</td>\n",
       "      <td>55</td>\n",
       "      <td>161</td>\n",
       "      <td>2000.0</td>\n",
       "      <td>2180</td>\n",
       "      <td>6</td>\n",
       "    </tr>\n",
       "    <tr>\n",
       "      <th>23043</th>\n",
       "      <td>1312</td>\n",
       "      <td>1</td>\n",
       "      <td>1</td>\n",
       "      <td>2.8</td>\n",
       "      <td>161</td>\n",
       "      <td>15</td>\n",
       "      <td>1555</td>\n",
       "      <td>774</td>\n",
       "      <td>1200.0</td>\n",
       "      <td>2182</td>\n",
       "      <td>6</td>\n",
       "    </tr>\n",
       "    <tr>\n",
       "      <th>23044</th>\n",
       "      <td>840</td>\n",
       "      <td>1</td>\n",
       "      <td>1</td>\n",
       "      <td>2.5</td>\n",
       "      <td>81</td>\n",
       "      <td>15</td>\n",
       "      <td>5144</td>\n",
       "      <td>501</td>\n",
       "      <td>800.0</td>\n",
       "      <td>13897</td>\n",
       "      <td>6</td>\n",
       "    </tr>\n",
       "    <tr>\n",
       "      <th>23045</th>\n",
       "      <td>3140</td>\n",
       "      <td>1</td>\n",
       "      <td>0</td>\n",
       "      <td>4.3</td>\n",
       "      <td>236</td>\n",
       "      <td>10</td>\n",
       "      <td>5140</td>\n",
       "      <td>161</td>\n",
       "      <td>2500.0</td>\n",
       "      <td>13873</td>\n",
       "      <td>6</td>\n",
       "    </tr>\n",
       "  </tbody>\n",
       "</table>\n",
       "<p>23046 rows × 11 columns</p>\n",
       "</div>"
      ],
      "text/plain": [
       "       name  online_order  book_table  rate  votes  rest_type  dish_liked  \\\n",
       "0         0             0           0   4.1    775          0           0   \n",
       "1         1             0           1   4.1    787          0           1   \n",
       "2         2             0           1   3.8    918          1           2   \n",
       "3         3             1           1   3.7     88          2           3   \n",
       "4         4             1           1   3.8    166          0           4   \n",
       "...     ...           ...         ...   ...    ...        ...         ...   \n",
       "23041  1484             0           0   3.8    128         33        1780   \n",
       "23042  1310             1           1   3.9     77         58          55   \n",
       "23043  1312             1           1   2.8    161         15        1555   \n",
       "23044   840             1           1   2.5     81         15        5144   \n",
       "23045  3140             1           0   4.3    236         10        5140   \n",
       "\n",
       "       cuisines    cost  reviews_list  type  \n",
       "0             0   800.0             0     0  \n",
       "1             1   800.0             1     0  \n",
       "2             2   800.0             2     0  \n",
       "3             3   300.0             3     0  \n",
       "4             4   600.0             4     0  \n",
       "...         ...     ...           ...   ...  \n",
       "23041       852  1200.0          2445     6  \n",
       "23042       161  2000.0          2180     6  \n",
       "23043       774  1200.0          2182     6  \n",
       "23044       501   800.0         13897     6  \n",
       "23045       161  2500.0         13873     6  \n",
       "\n",
       "[23046 rows x 11 columns]"
      ]
     },
     "execution_count": 33,
     "metadata": {},
     "output_type": "execute_result"
    }
   ],
   "source": [
    "def Encode(X):\n",
    "    for column in X.columns[~X.columns.isin(['rate', 'cost', 'votes'])]:\n",
    "        X[column] = pd.factorize(X[column])[0]\n",
    "    return X\n",
    "\n",
    "enc = Encode(X.copy())\n",
    "enc"
   ]
  },
  {
   "cell_type": "markdown",
   "metadata": {},
   "source": [
    "# Standardizing the data"
   ]
  },
  {
   "cell_type": "code",
   "execution_count": 34,
   "metadata": {},
   "outputs": [],
   "source": [
    "scaler = StandardScaler()"
   ]
  },
  {
   "cell_type": "code",
   "execution_count": 35,
   "metadata": {},
   "outputs": [],
   "source": [
    "x_fit=scaler.fit_transform(enc)\n"
   ]
  },
  {
   "cell_type": "code",
   "execution_count": 36,
   "metadata": {},
   "outputs": [
    {
     "data": {
      "text/html": [
       "<div>\n",
       "<style scoped>\n",
       "    .dataframe tbody tr th:only-of-type {\n",
       "        vertical-align: middle;\n",
       "    }\n",
       "\n",
       "    .dataframe tbody tr th {\n",
       "        vertical-align: top;\n",
       "    }\n",
       "\n",
       "    .dataframe thead th {\n",
       "        text-align: right;\n",
       "    }\n",
       "</style>\n",
       "<table border=\"1\" class=\"dataframe\">\n",
       "  <thead>\n",
       "    <tr style=\"text-align: right;\">\n",
       "      <th></th>\n",
       "      <th>name</th>\n",
       "      <th>online_order</th>\n",
       "      <th>book_table</th>\n",
       "      <th>rate</th>\n",
       "      <th>votes</th>\n",
       "      <th>rest_type</th>\n",
       "      <th>dish_liked</th>\n",
       "      <th>cuisines</th>\n",
       "      <th>cost</th>\n",
       "      <th>reviews_list</th>\n",
       "      <th>type</th>\n",
       "    </tr>\n",
       "  </thead>\n",
       "  <tbody>\n",
       "    <tr>\n",
       "      <th>0</th>\n",
       "      <td>-1.498317</td>\n",
       "      <td>-0.643526</td>\n",
       "      <td>-1.677776</td>\n",
       "      <td>0.458813</td>\n",
       "      <td>0.152229</td>\n",
       "      <td>-0.624891</td>\n",
       "      <td>-1.519327</td>\n",
       "      <td>-1.068466</td>\n",
       "      <td>0.087628</td>\n",
       "      <td>-1.473825</td>\n",
       "      <td>-2.240464</td>\n",
       "    </tr>\n",
       "    <tr>\n",
       "      <th>1</th>\n",
       "      <td>-1.497063</td>\n",
       "      <td>-0.643526</td>\n",
       "      <td>0.596027</td>\n",
       "      <td>0.458813</td>\n",
       "      <td>0.162968</td>\n",
       "      <td>-0.624891</td>\n",
       "      <td>-1.518592</td>\n",
       "      <td>-1.066135</td>\n",
       "      <td>0.087628</td>\n",
       "      <td>-1.473584</td>\n",
       "      <td>-2.240464</td>\n",
       "    </tr>\n",
       "    <tr>\n",
       "      <th>2</th>\n",
       "      <td>-1.495809</td>\n",
       "      <td>-0.643526</td>\n",
       "      <td>0.596027</td>\n",
       "      <td>-0.244825</td>\n",
       "      <td>0.280211</td>\n",
       "      <td>-0.545131</td>\n",
       "      <td>-1.517857</td>\n",
       "      <td>-1.063804</td>\n",
       "      <td>0.087628</td>\n",
       "      <td>-1.473342</td>\n",
       "      <td>-2.240464</td>\n",
       "    </tr>\n",
       "    <tr>\n",
       "      <th>3</th>\n",
       "      <td>-1.494555</td>\n",
       "      <td>1.553940</td>\n",
       "      <td>0.596027</td>\n",
       "      <td>-0.479371</td>\n",
       "      <td>-0.462623</td>\n",
       "      <td>-0.465371</td>\n",
       "      <td>-1.517122</td>\n",
       "      <td>-1.061473</td>\n",
       "      <td>-0.871095</td>\n",
       "      <td>-1.473101</td>\n",
       "      <td>-2.240464</td>\n",
       "    </tr>\n",
       "    <tr>\n",
       "      <th>4</th>\n",
       "      <td>-1.493301</td>\n",
       "      <td>1.553940</td>\n",
       "      <td>0.596027</td>\n",
       "      <td>-0.244825</td>\n",
       "      <td>-0.392815</td>\n",
       "      <td>-0.624891</td>\n",
       "      <td>-1.516387</td>\n",
       "      <td>-1.059142</td>\n",
       "      <td>-0.295861</td>\n",
       "      <td>-1.472859</td>\n",
       "      <td>-2.240464</td>\n",
       "    </tr>\n",
       "  </tbody>\n",
       "</table>\n",
       "</div>"
      ],
      "text/plain": [
       "       name  online_order  book_table      rate     votes  rest_type  \\\n",
       "0 -1.498317     -0.643526   -1.677776  0.458813  0.152229  -0.624891   \n",
       "1 -1.497063     -0.643526    0.596027  0.458813  0.162968  -0.624891   \n",
       "2 -1.495809     -0.643526    0.596027 -0.244825  0.280211  -0.545131   \n",
       "3 -1.494555      1.553940    0.596027 -0.479371 -0.462623  -0.465371   \n",
       "4 -1.493301      1.553940    0.596027 -0.244825 -0.392815  -0.624891   \n",
       "\n",
       "   dish_liked  cuisines      cost  reviews_list      type  \n",
       "0   -1.519327 -1.068466  0.087628     -1.473825 -2.240464  \n",
       "1   -1.518592 -1.066135  0.087628     -1.473584 -2.240464  \n",
       "2   -1.517857 -1.063804  0.087628     -1.473342 -2.240464  \n",
       "3   -1.517122 -1.061473 -0.871095     -1.473101 -2.240464  \n",
       "4   -1.516387 -1.059142 -0.295861     -1.472859 -2.240464  "
      ]
     },
     "execution_count": 36,
     "metadata": {},
     "output_type": "execute_result"
    }
   ],
   "source": [
    "enc=pd.DataFrame(x_fit,columns=enc.columns)\n",
    "enc.head()"
   ]
  },
  {
   "cell_type": "code",
   "execution_count": 37,
   "metadata": {},
   "outputs": [
    {
     "name": "stdout",
     "output_type": "stream",
     "text": [
      "<class 'pandas.core.frame.DataFrame'>\n",
      "RangeIndex: 23046 entries, 0 to 23045\n",
      "Data columns (total 11 columns):\n",
      " #   Column        Non-Null Count  Dtype  \n",
      "---  ------        --------------  -----  \n",
      " 0   name          23046 non-null  float64\n",
      " 1   online_order  23046 non-null  float64\n",
      " 2   book_table    23046 non-null  float64\n",
      " 3   rate          23046 non-null  float64\n",
      " 4   votes         23046 non-null  float64\n",
      " 5   rest_type     23046 non-null  float64\n",
      " 6   dish_liked    23046 non-null  float64\n",
      " 7   cuisines      23046 non-null  float64\n",
      " 8   cost          23046 non-null  float64\n",
      " 9   reviews_list  23046 non-null  float64\n",
      " 10  type          23046 non-null  float64\n",
      "dtypes: float64(11)\n",
      "memory usage: 1.9 MB\n"
     ]
    }
   ],
   "source": [
    "enc.info()"
   ]
  },
  {
   "cell_type": "markdown",
   "metadata": {},
   "source": [
    "# Correlation between different variables "
   ]
  },
  {
   "cell_type": "code",
   "execution_count": 38,
   "metadata": {},
   "outputs": [
    {
     "data": {
      "text/plain": [
       "Index(['name', 'online_order', 'book_table', 'rate', 'votes', 'rest_type',\n",
       "       'dish_liked', 'cuisines', 'cost', 'reviews_list', 'type'],\n",
       "      dtype='object')"
      ]
     },
     "execution_count": 38,
     "metadata": {},
     "output_type": "execute_result"
    },
    {
     "data": {
      "image/png": "[encoded data removed]",
      "text/plain": [
       "<Figure size 720x576 with 2 Axes>"
      ]
     },
     "metadata": {
      "needs_background": "light"
     },
     "output_type": "display_data"
    }
   ],
   "source": [
    "corr = enc.corr(method='kendall')\n",
    "plt.figure(figsize=(10,8))\n",
    "sns.heatmap(corr, annot=True)\n",
    "enc.columns"
   ]
  },
  {
   "cell_type": "markdown",
   "metadata": {},
   "source": [
    "# Splitting the dataset"
   ]
  },
  {
   "cell_type": "code",
   "execution_count": 51,
   "metadata": {},
   "outputs": [
    {
     "data": {
      "text/html": [
       "<div>\n",
       "<style scoped>\n",
       "    .dataframe tbody tr th:only-of-type {\n",
       "        vertical-align: middle;\n",
       "    }\n",
       "\n",
       "    .dataframe tbody tr th {\n",
       "        vertical-align: top;\n",
       "    }\n",
       "\n",
       "    .dataframe thead th {\n",
       "        text-align: right;\n",
       "    }\n",
       "</style>\n",
       "<table border=\"1\" class=\"dataframe\">\n",
       "  <thead>\n",
       "    <tr style=\"text-align: right;\">\n",
       "      <th></th>\n",
       "      <th>online_order</th>\n",
       "      <th>book_table</th>\n",
       "      <th>votes</th>\n",
       "      <th>rest_type</th>\n",
       "      <th>dish_liked</th>\n",
       "      <th>cuisines</th>\n",
       "      <th>cost</th>\n",
       "      <th>reviews_list</th>\n",
       "      <th>type</th>\n",
       "    </tr>\n",
       "  </thead>\n",
       "  <tbody>\n",
       "    <tr>\n",
       "      <th>19046</th>\n",
       "      <td>-0.643526</td>\n",
       "      <td>0.596027</td>\n",
       "      <td>-0.314951</td>\n",
       "      <td>3.044072</td>\n",
       "      <td>0.463452</td>\n",
       "      <td>0.754406</td>\n",
       "      <td>-0.775223</td>\n",
       "      <td>1.331909</td>\n",
       "      <td>-0.662874</td>\n",
       "    </tr>\n",
       "    <tr>\n",
       "      <th>4057</th>\n",
       "      <td>-0.643526</td>\n",
       "      <td>0.596027</td>\n",
       "      <td>2.543617</td>\n",
       "      <td>-0.624891</td>\n",
       "      <td>0.079096</td>\n",
       "      <td>-1.056811</td>\n",
       "      <td>-0.295861</td>\n",
       "      <td>-0.744696</td>\n",
       "      <td>-0.662874</td>\n",
       "    </tr>\n",
       "    <tr>\n",
       "      <th>139</th>\n",
       "      <td>-0.643526</td>\n",
       "      <td>0.596027</td>\n",
       "      <td>-0.252303</td>\n",
       "      <td>-0.624891</td>\n",
       "      <td>-1.426728</td>\n",
       "      <td>-1.012521</td>\n",
       "      <td>0.183500</td>\n",
       "      <td>-1.442449</td>\n",
       "      <td>-0.662874</td>\n",
       "    </tr>\n",
       "    <tr>\n",
       "      <th>16780</th>\n",
       "      <td>-0.643526</td>\n",
       "      <td>0.596027</td>\n",
       "      <td>-0.221873</td>\n",
       "      <td>-0.465371</td>\n",
       "      <td>-0.700640</td>\n",
       "      <td>-1.056811</td>\n",
       "      <td>-0.775223</td>\n",
       "      <td>0.279608</td>\n",
       "      <td>-0.662874</td>\n",
       "    </tr>\n",
       "    <tr>\n",
       "      <th>9593</th>\n",
       "      <td>-0.643526</td>\n",
       "      <td>-1.677776</td>\n",
       "      <td>0.216667</td>\n",
       "      <td>0.571510</td>\n",
       "      <td>-1.167306</td>\n",
       "      <td>-0.380810</td>\n",
       "      <td>0.662862</td>\n",
       "      <td>-0.059494</td>\n",
       "      <td>1.703511</td>\n",
       "    </tr>\n",
       "  </tbody>\n",
       "</table>\n",
       "</div>"
      ],
      "text/plain": [
       "       online_order  book_table     votes  rest_type  dish_liked  cuisines  \\\n",
       "19046     -0.643526    0.596027 -0.314951   3.044072    0.463452  0.754406   \n",
       "4057      -0.643526    0.596027  2.543617  -0.624891    0.079096 -1.056811   \n",
       "139       -0.643526    0.596027 -0.252303  -0.624891   -1.426728 -1.012521   \n",
       "16780     -0.643526    0.596027 -0.221873  -0.465371   -0.700640 -1.056811   \n",
       "9593      -0.643526   -1.677776  0.216667   0.571510   -1.167306 -0.380810   \n",
       "\n",
       "           cost  reviews_list      type  \n",
       "19046 -0.775223      1.331909 -0.662874  \n",
       "4057  -0.295861     -0.744696 -0.662874  \n",
       "139    0.183500     -1.442449 -0.662874  \n",
       "16780 -0.775223      0.279608 -0.662874  \n",
       "9593   0.662862     -0.059494  1.703511  "
      ]
     },
     "execution_count": 51,
     "metadata": {},
     "output_type": "execute_result"
    }
   ],
   "source": [
    "x = enc.iloc[:,[1,2,4,5,6,7,8,9,10]]\n",
    "y = X.rate\n",
    "x_train,x_test,y_train,y_test=train_test_split(x,y,test_size=.1,random_state=42)\n",
    "x_train.head()\n"
   ]
  },
  {
   "cell_type": "code",
   "execution_count": 52,
   "metadata": {},
   "outputs": [
    {
     "data": {
      "text/plain": [
       "ExtraTreesRegressor()"
      ]
     },
     "execution_count": 52,
     "metadata": {},
     "output_type": "execute_result"
    }
   ],
   "source": [
    "from sklearn.ensemble import ExtraTreesRegressor\n",
    "model = ExtraTreesRegressor()\n",
    "model.fit(x,y)"
   ]
  },
  {
   "cell_type": "code",
   "execution_count": 53,
   "metadata": {},
   "outputs": [
    {
     "data": {
      "image/png": "[encoded data removed]",
      "text/plain": [
       "<Figure size 432x288 with 1 Axes>"
      ]
     },
     "metadata": {
      "needs_background": "light"
     },
     "output_type": "display_data"
    }
   ],
   "source": [
    "feat_importances = pd.Series(model.feature_importances_, index=x.columns)\n",
    "feat_importances.nlargest(8).plot(kind='barh')\n",
    "plt.show()"
   ]
  },
  {
   "cell_type": "markdown",
   "metadata": {},
   "source": [
    "# Linear Regressor"
   ]
  },
  {
   "cell_type": "code",
   "execution_count": 55,
   "metadata": {},
   "outputs": [
    {
     "data": {
      "text/plain": [
       "0.2381021002722188"
      ]
     },
     "execution_count": 55,
     "metadata": {},
     "output_type": "execute_result"
    }
   ],
   "source": [
    "from sklearn.linear_model import LinearRegression\n",
    "reg=LinearRegression()\n",
    "reg.fit(x_train,y_train)\n",
    "y_pred=reg.predict(x_test)\n",
    "from sklearn.metrics import r2_score\n",
    "r2_score(y_test,y_pred)"
   ]
  },
  {
   "cell_type": "code",
   "execution_count": 56,
   "metadata": {},
   "outputs": [
    {
     "data": {
      "text/plain": [
       "<AxesSubplot:xlabel='rate', ylabel='Density'>"
      ]
     },
     "execution_count": 56,
     "metadata": {},
     "output_type": "execute_result"
    },
    {
     "data": {
      "image/png": "[encoded data removed]",
      "text/plain": [
       "<Figure size 432x288 with 1 Axes>"
      ]
     },
     "metadata": {
      "needs_background": "light"
     },
     "output_type": "display_data"
    }
   ],
   "source": [
    "sns.distplot(y_test-y_pred)"
   ]
  },
  {
   "cell_type": "markdown",
   "metadata": {},
   "source": [
    "# Decision Tree Regressor<h3>"
   ]
  },
  {
   "cell_type": "code",
   "execution_count": 58,
   "metadata": {},
   "outputs": [
    {
     "data": {
      "text/plain": [
       "0.828451224075496"
      ]
     },
     "execution_count": 58,
     "metadata": {},
     "output_type": "execute_result"
    }
   ],
   "source": [
    "from sklearn.tree import DecisionTreeRegressor\n",
    "x_train,x_test,y_train,y_test=train_test_split(x,y,test_size=.1,random_state=0)\n",
    "DTree=DecisionTreeRegressor(min_samples_leaf=.0001)\n",
    "DTree.fit(x_train,y_train)\n",
    "y_predict1=DTree.predict(x_test)\n",
    "from sklearn.metrics import r2_score\n",
    "r2_score(y_test,y_predict1)"
   ]
  },
  {
   "cell_type": "code",
   "execution_count": 59,
   "metadata": {},
   "outputs": [
    {
     "data": {
      "text/plain": [
       "<AxesSubplot:xlabel='rate', ylabel='Density'>"
      ]
     },
     "execution_count": 59,
     "metadata": {},
     "output_type": "execute_result"
    },
    {
     "data": {
      "image/png": "[encoded data removed]",
      "text/plain": [
       "<Figure size 432x288 with 1 Axes>"
      ]
     },
     "metadata": {
      "needs_background": "light"
     },
     "output_type": "display_data"
    }
   ],
   "source": [
    "sns.distplot(y_test-y_predict1)"
   ]
  },
  {
   "cell_type": "markdown",
   "metadata": {},
   "source": [
    "# Random Forest Regressor<h3>"
   ]
  },
  {
   "cell_type": "code",
   "execution_count": 60,
   "metadata": {},
   "outputs": [
    {
     "data": {
      "text/plain": [
       "0.8672600656825594"
      ]
     },
     "execution_count": 60,
     "metadata": {},
     "output_type": "execute_result"
    }
   ],
   "source": [
    "from sklearn.ensemble import RandomForestRegressor\n",
    "RForest=RandomForestRegressor(n_estimators=500,random_state=430,min_samples_leaf=.0001)\n",
    "RForest.fit(x_train,y_train)\n",
    "y_predict=RForest.predict(x_test)\n",
    "from sklearn.metrics import r2_score\n",
    "r2_score(y_test,y_predict)"
   ]
  },
  {
   "cell_type": "code",
   "execution_count": 61,
   "metadata": {},
   "outputs": [
    {
     "data": {
      "text/plain": [
       "<AxesSubplot:xlabel='rate', ylabel='Density'>"
      ]
     },
     "execution_count": 61,
     "metadata": {},
     "output_type": "execute_result"
    },
    {
     "data": {
      "image/png": "[encoded data removed]",
      "text/plain": [
       "<Figure size 432x288 with 1 Axes>"
      ]
     },
     "metadata": {
      "needs_background": "light"
     },
     "output_type": "display_data"
    }
   ],
   "source": [
    "sns.distplot(y_test-y_predict)"
   ]
  },
  {
   "cell_type": "markdown",
   "metadata": {},
   "source": [
    "# ExtraTreesRegressor"
   ]
  },
  {
   "cell_type": "code",
   "execution_count": 84,
   "metadata": {},
   "outputs": [
    {
     "data": {
      "text/plain": [
       "0.9327977986189416"
      ]
     },
     "execution_count": 84,
     "metadata": {},
     "output_type": "execute_result"
    }
   ],
   "source": [
    "from sklearn.ensemble import  ExtraTreesRegressor\n",
    "ET_Model=ExtraTreesRegressor(n_estimators = 120 , random_state=430)\n",
    "ET_Model.fit(x_train,y_train)\n",
    "y_predict=ET_Model.predict(x_test)\n",
    "from sklearn.metrics import r2_score\n",
    "r2_score(y_test,y_predict)"
   ]
  },
  {
   "cell_type": "code",
   "execution_count": 85,
   "metadata": {},
   "outputs": [
    {
     "data": {
      "text/plain": [
       "<AxesSubplot:xlabel='rate', ylabel='Density'>"
      ]
     },
     "execution_count": 85,
     "metadata": {},
     "output_type": "execute_result"
    },
    {
     "data": {
      "image/png": "[encoded data removed]",
      "text/plain": [
       "<Figure size 432x288 with 1 Axes>"
      ]
     },
     "metadata": {
      "needs_background": "light"
     },
     "output_type": "display_data"
    }
   ],
   "source": [
    "sns.distplot(y_test-y_predict)"
   ]
  },
  {
   "cell_type": "code",
   "execution_count": 86,
   "metadata": {},
   "outputs": [
    {
     "name": "stdout",
     "output_type": "stream",
     "text": [
      "Mean Absolute Error: 0.041894064834902114\n",
      "Mean Squared Error: 0.011950604965135503\n",
      "Root Mean Squared Error: 0.10931882255648157\n"
     ]
    }
   ],
   "source": [
    "from sklearn import metrics\n",
    "\n",
    "print('Mean Absolute Error:', metrics.mean_absolute_error(y_test, y_predict))\n",
    "print('Mean Squared Error:', metrics.mean_squared_error(y_test, y_predict))\n",
    "print('Root Mean Squared Error:', np.sqrt(metrics.mean_squared_error(y_test, y_predict)))"
   ]
  },
  {
   "cell_type": "markdown",
   "metadata": {},
   "source": [
    "# Saving the Model"
   ]
  },
  {
   "cell_type": "code",
   "execution_count": 68,
   "metadata": {},
   "outputs": [],
   "source": [
    "import pickle \n",
    "pickle.dump(ET_Model, open('rr_model.pkl','wb'))\n",
    "# model=pickle.load(open('rr_model.pkl','rb'))"
   ]
  },
  {
   "cell_type": "markdown",
   "metadata": {},
   "source": [
    "### Result-\n",
    "\n",
    "  \n",
    "1. Linear Regressor shows approximately 23%\n",
    " \n",
    "2. Decision Tree Regressor shows approximately 83%\n",
    "\n",
    "3. Random Forest Regressor shows approximately 87%\n",
    "\n",
    "4. ExtraTreesRegressor shows approximately 94%\n",
    "\n",
    "In this model, we have considered various restaurants records with features like the name, average cost, locality, whether it accepts online order, can we book a table, type of restaurant.\n",
    "This model will help business owners predict their rating on the parameters considered in our model and improve the customer experience.\n",
    "\n",
    "Different algorithms were used but in the end the final model is selected on Random Forest Regressor which gives the highest accuracy compared to others.<i><h4>"
   ]
  },
  {
   "cell_type": "code",
   "execution_count": 126,
   "metadata": {},
   "outputs": [
    {
     "data": {
      "text/html": [
       "<div>\n",
       "<style scoped>\n",
       "    .dataframe tbody tr th:only-of-type {\n",
       "        vertical-align: middle;\n",
       "    }\n",
       "\n",
       "    .dataframe tbody tr th {\n",
       "        vertical-align: top;\n",
       "    }\n",
       "\n",
       "    .dataframe thead th {\n",
       "        text-align: right;\n",
       "    }\n",
       "</style>\n",
       "<table border=\"1\" class=\"dataframe\">\n",
       "  <thead>\n",
       "    <tr style=\"text-align: right;\">\n",
       "      <th></th>\n",
       "      <th>online_order</th>\n",
       "      <th>book_table</th>\n",
       "      <th>votes</th>\n",
       "      <th>rest_type</th>\n",
       "      <th>dish_liked</th>\n",
       "      <th>cuisines</th>\n",
       "      <th>cost</th>\n",
       "      <th>reviews_list</th>\n",
       "      <th>type</th>\n",
       "    </tr>\n",
       "  </thead>\n",
       "  <tbody>\n",
       "    <tr>\n",
       "      <th>22987</th>\n",
       "      <td>-0.643526</td>\n",
       "      <td>0.596027</td>\n",
       "      <td>-0.378495</td>\n",
       "      <td>1.209590</td>\n",
       "      <td>2.259564</td>\n",
       "      <td>2.838355</td>\n",
       "      <td>-0.295861</td>\n",
       "      <td>1.875195</td>\n",
       "      <td>0.914716</td>\n",
       "    </tr>\n",
       "    <tr>\n",
       "      <th>16441</th>\n",
       "      <td>-0.643526</td>\n",
       "      <td>0.596027</td>\n",
       "      <td>-0.351645</td>\n",
       "      <td>-0.465371</td>\n",
       "      <td>0.171694</td>\n",
       "      <td>1.348821</td>\n",
       "      <td>-0.679350</td>\n",
       "      <td>0.750247</td>\n",
       "      <td>0.914716</td>\n",
       "    </tr>\n",
       "    <tr>\n",
       "      <th>17385</th>\n",
       "      <td>-0.643526</td>\n",
       "      <td>-1.677776</td>\n",
       "      <td>-0.446513</td>\n",
       "      <td>-0.465371</td>\n",
       "      <td>-1.495809</td>\n",
       "      <td>-1.056811</td>\n",
       "      <td>-0.871095</td>\n",
       "      <td>1.067385</td>\n",
       "      <td>0.914716</td>\n",
       "    </tr>\n",
       "    <tr>\n",
       "      <th>19786</th>\n",
       "      <td>1.553940</td>\n",
       "      <td>0.596027</td>\n",
       "      <td>2.959782</td>\n",
       "      <td>-0.545131</td>\n",
       "      <td>1.882557</td>\n",
       "      <td>0.215936</td>\n",
       "      <td>0.279373</td>\n",
       "      <td>1.425554</td>\n",
       "      <td>-0.662874</td>\n",
       "    </tr>\n",
       "    <tr>\n",
       "      <th>17331</th>\n",
       "      <td>-0.643526</td>\n",
       "      <td>0.596027</td>\n",
       "      <td>-0.263937</td>\n",
       "      <td>-0.624891</td>\n",
       "      <td>-1.065154</td>\n",
       "      <td>-0.236285</td>\n",
       "      <td>-0.104117</td>\n",
       "      <td>-1.281225</td>\n",
       "      <td>0.914716</td>\n",
       "    </tr>\n",
       "    <tr>\n",
       "      <th>...</th>\n",
       "      <td>...</td>\n",
       "      <td>...</td>\n",
       "      <td>...</td>\n",
       "      <td>...</td>\n",
       "      <td>...</td>\n",
       "      <td>...</td>\n",
       "      <td>...</td>\n",
       "      <td>...</td>\n",
       "      <td>...</td>\n",
       "    </tr>\n",
       "    <tr>\n",
       "      <th>6898</th>\n",
       "      <td>-0.643526</td>\n",
       "      <td>0.596027</td>\n",
       "      <td>-0.373125</td>\n",
       "      <td>-0.146331</td>\n",
       "      <td>0.101143</td>\n",
       "      <td>1.248586</td>\n",
       "      <td>-0.871095</td>\n",
       "      <td>-0.732870</td>\n",
       "      <td>-0.662874</td>\n",
       "    </tr>\n",
       "    <tr>\n",
       "      <th>16948</th>\n",
       "      <td>-0.643526</td>\n",
       "      <td>-1.677776</td>\n",
       "      <td>0.464577</td>\n",
       "      <td>0.571510</td>\n",
       "      <td>-0.768252</td>\n",
       "      <td>0.155329</td>\n",
       "      <td>0.854606</td>\n",
       "      <td>1.003909</td>\n",
       "      <td>-0.662874</td>\n",
       "    </tr>\n",
       "    <tr>\n",
       "      <th>18476</th>\n",
       "      <td>1.553940</td>\n",
       "      <td>0.596027</td>\n",
       "      <td>-0.493947</td>\n",
       "      <td>1.129830</td>\n",
       "      <td>1.821559</td>\n",
       "      <td>0.919910</td>\n",
       "      <td>7.182178</td>\n",
       "      <td>1.261916</td>\n",
       "      <td>0.914716</td>\n",
       "    </tr>\n",
       "    <tr>\n",
       "      <th>3543</th>\n",
       "      <td>-0.643526</td>\n",
       "      <td>0.596027</td>\n",
       "      <td>-0.519007</td>\n",
       "      <td>-0.465371</td>\n",
       "      <td>-0.215602</td>\n",
       "      <td>-0.998535</td>\n",
       "      <td>-0.487606</td>\n",
       "      <td>-0.845582</td>\n",
       "      <td>0.914716</td>\n",
       "    </tr>\n",
       "    <tr>\n",
       "      <th>13925</th>\n",
       "      <td>1.553940</td>\n",
       "      <td>0.596027</td>\n",
       "      <td>-0.399974</td>\n",
       "      <td>1.767911</td>\n",
       "      <td>0.283400</td>\n",
       "      <td>0.600558</td>\n",
       "      <td>1.046351</td>\n",
       "      <td>0.560060</td>\n",
       "      <td>0.914716</td>\n",
       "    </tr>\n",
       "  </tbody>\n",
       "</table>\n",
       "<p>2305 rows × 9 columns</p>\n",
       "</div>"
      ],
      "text/plain": [
       "       online_order  book_table     votes  rest_type  dish_liked  cuisines  \\\n",
       "22987     -0.643526    0.596027 -0.378495   1.209590    2.259564  2.838355   \n",
       "16441     -0.643526    0.596027 -0.351645  -0.465371    0.171694  1.348821   \n",
       "17385     -0.643526   -1.677776 -0.446513  -0.465371   -1.495809 -1.056811   \n",
       "19786      1.553940    0.596027  2.959782  -0.545131    1.882557  0.215936   \n",
       "17331     -0.643526    0.596027 -0.263937  -0.624891   -1.065154 -0.236285   \n",
       "...             ...         ...       ...        ...         ...       ...   \n",
       "6898      -0.643526    0.596027 -0.373125  -0.146331    0.101143  1.248586   \n",
       "16948     -0.643526   -1.677776  0.464577   0.571510   -0.768252  0.155329   \n",
       "18476      1.553940    0.596027 -0.493947   1.129830    1.821559  0.919910   \n",
       "3543      -0.643526    0.596027 -0.519007  -0.465371   -0.215602 -0.998535   \n",
       "13925      1.553940    0.596027 -0.399974   1.767911    0.283400  0.600558   \n",
       "\n",
       "           cost  reviews_list      type  \n",
       "22987 -0.295861      1.875195  0.914716  \n",
       "16441 -0.679350      0.750247  0.914716  \n",
       "17385 -0.871095      1.067385  0.914716  \n",
       "19786  0.279373      1.425554 -0.662874  \n",
       "17331 -0.104117     -1.281225  0.914716  \n",
       "...         ...           ...       ...  \n",
       "6898  -0.871095     -0.732870 -0.662874  \n",
       "16948  0.854606      1.003909 -0.662874  \n",
       "18476  7.182178      1.261916  0.914716  \n",
       "3543  -0.487606     -0.845582  0.914716  \n",
       "13925  1.046351      0.560060  0.914716  \n",
       "\n",
       "[2305 rows x 9 columns]"
      ]
     },
     "execution_count": 126,
     "metadata": {},
     "output_type": "execute_result"
    }
   ],
   "source": [
    "x_test"
   ]
  },
  {
   "cell_type": "code",
   "execution_count": 87,
   "metadata": {},
   "outputs": [],
   "source": [
    "model=pickle.load(open('rr_model.pkl','rb'))"
   ]
  },
  {
   "cell_type": "code",
   "execution_count": 122,
   "metadata": {},
   "outputs": [
    {
     "data": {
      "text/plain": [
       "array([3.435     , 4.        , 3.87541667, ..., 4.275     , 3.64041667,\n",
       "       3.8       ])"
      ]
     },
     "execution_count": 122,
     "metadata": {},
     "output_type": "execute_result"
    }
   ],
   "source": [
    "model.predict(x_test)"
   ]
  }
 ],
 "metadata": {
  "kernelspec": {
   "display_name": "Python 3",
   "language": "python",
   "name": "python3"
  },
  "language_info": {
   "codemirror_mode": {
    "name": "ipython",
    "version": 3
   },
   "file_extension": ".py",
   "mimetype": "text/x-python",
   "name": "python",
   "nbconvert_exporter": "python",
   "pygments_lexer": "ipython3",
   "version": "3.8.5"
  }
 },
 "nbformat": 4,
 "nbformat_minor": 4
}
